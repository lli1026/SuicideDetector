{
 "cells": [
  {
   "cell_type": "markdown",
   "id": "7e05b272-a3f2-4864-ba72-2f5a0d175ab6",
   "metadata": {},
   "source": [
    "### Suicide Detector\n",
    "\n",
    "Data source:\n",
    "https://www.kaggle.com/datasets/nikhileswarkomati/suicide-watch/\n",
    "\n",
    "Data Description:\n",
    "\n",
    "The dataset is a collection of posts from the \"SuicideWatch\" and \"depression\" subreddits of the Reddit platform. The posts are collected using Pushshift API. All posts that were made to \"SuicideWatch\" from Dec 16, 2008(creation) till Jan 2, 2021, were collected while \"depression\" posts were collected from Jan 1, 2009, to Jan 2, 2021. All posts collected from SuicideWatch are labeled as suicide, While posts collected from the depression subreddit are labeled as depression. Non-suicide posts are collected from r/teenagers.\n",
    "\n",
    "The current version has only suicide & non-suicide labels. \n",
    "\n",
    "#### Steps Taken:\n",
    "\n",
    "##### Data Explore and Preprodessing\n",
    "1. load data, sample data for the purpose of computer power issue\n",
    "2. Explore the data shape, null value, classes\n",
    "3. Remove punctuation, remove stop words\n",
    "4. Map the classes to 0 and 1\n",
    "5. Find the most common words used for suicide and non-suicide group\n",
    "##### Create Model, model compile, model training\n",
    "1. building a model including a embedding layer,a LSTM layer, a dense layer for output\n",
    "2. complile: use BinaryCrossentropy as loss, accuracy as metrics, Adam as optimizer\n",
    "##### Model Optimization: Steps taken to overcome overfitting\n",
    "1. increase data size from 12000 to 50000\n",
    "2. reduce model complexity (reduce the number of LSTM units from 64 to 16; reduce embedding dimension from 64 to 16\n",
    "3. Regularization: add l2 regularization to the LSTM layer, value from 0.01 to 0.04, dropout from 0.1 to 0.8; add drop out layers after LSTM layer, value from 0.5 to 0.8\n",
    "4. Batch Normalization: add batch normalization layers after LSTM layer\n",
    "5. Early stopping\n",
    "6. Learning Rate Scheduling (initial lr from 0.01 change to 0.001)"
   ]
  },
  {
   "cell_type": "markdown",
   "id": "e8f0b824-6720-4228-8240-9356f79857d1",
   "metadata": {},
   "source": [
    "# Data Explore and Preprocessing"
   ]
  },
  {
   "cell_type": "code",
   "execution_count": 1,
   "id": "555336eb-9c3b-4198-b25d-b819f92f682d",
   "metadata": {
    "tags": []
   },
   "outputs": [],
   "source": [
    "import tensorflow as tf\n",
    "from tensorflow import keras\n",
    "import pandas as pd\n",
    "import numpy as np\n",
    "import os\n",
    "from matplotlib import pyplot as plt\n",
    "import time\n",
    "import re"
   ]
  },
  {
   "cell_type": "code",
   "execution_count": 2,
   "id": "2399ea77-f23b-47cd-88a4-34f24aa06ebe",
   "metadata": {
    "tags": []
   },
   "outputs": [],
   "source": [
    "pd.set_option('display.max_colwidth', None)\n",
    "data = pd.read_csv('Suicide_Detection.csv', index_col = [0])\n",
    "df = data.sample(n=50000, random_state=42)"
   ]
  },
  {
   "cell_type": "code",
   "execution_count": 41,
   "id": "fff9d467-1895-4720-a9f6-c9fd8d551431",
   "metadata": {
    "tags": []
   },
   "outputs": [
    {
     "data": {
      "text/plain": [
       "(50000, 2)"
      ]
     },
     "execution_count": 41,
     "metadata": {},
     "output_type": "execute_result"
    }
   ],
   "source": [
    "# Find the dimension of the df by the attribute 'shape' of df\n",
    "df.shape"
   ]
  },
  {
   "cell_type": "code",
   "execution_count": 42,
   "id": "8f372f8f-ec94-414a-8c61-a8ad228a613d",
   "metadata": {
    "tags": []
   },
   "outputs": [
    {
     "data": {
      "text/plain": [
       "Index(['text', 'class'], dtype='object')"
      ]
     },
     "execution_count": 42,
     "metadata": {},
     "output_type": "execute_result"
    }
   ],
   "source": [
    "# find the column names by the attribute 'colums'\n",
    "df.columns"
   ]
  },
  {
   "cell_type": "code",
   "execution_count": 23,
   "id": "f900d158-c2c0-43f0-9c9c-a1748d9a3e72",
   "metadata": {
    "collapsed": true,
    "jupyter": {
     "outputs_hidden": true
    },
    "tags": []
   },
   "outputs": [
    {
     "data": {
      "text/html": [
       "<div>\n",
       "<style scoped>\n",
       "    .dataframe tbody tr th:only-of-type {\n",
       "        vertical-align: middle;\n",
       "    }\n",
       "\n",
       "    .dataframe tbody tr th {\n",
       "        vertical-align: top;\n",
       "    }\n",
       "\n",
       "    .dataframe thead th {\n",
       "        text-align: right;\n",
       "    }\n",
       "</style>\n",
       "<table border=\"1\" class=\"dataframe\">\n",
       "  <thead>\n",
       "    <tr style=\"text-align: right;\">\n",
       "      <th></th>\n",
       "      <th>text</th>\n",
       "      <th>class</th>\n",
       "    </tr>\n",
       "  </thead>\n",
       "  <tbody>\n",
       "    <tr>\n",
       "      <th>111734</th>\n",
       "      <td>I Don't know?7? Months self harm free and the urge just gets stronger and stronger every day. The past few days I've just been shit... \\nMy family stresses me out especially my nephew (he's 12) My mum has full custody of him and he's told me to go kill myself numerous times.. I wish it was that easy.\\nMy partners family stresses me out especially over the past few days. \\nStress is my trigger \\nI just want to scream and cry. \\nI live near the woods so I could go out and scream till I can't possibly scream anymore but the cops will probably get called...\\nMy OH knows about my depression but he doesn't really know how I'm feeling at the moment. He would want to come over and make sure I'm OK but he's fucking annoying. He annoys me all the time by doing small stupid things. \\nI don't even know where I'm going with the post? \\n\\n</td>\n",
       "      <td>suicide</td>\n",
       "    </tr>\n",
       "    <tr>\n",
       "      <th>224358</th>\n",
       "      <td>I HAVE TO START BECOMING RICH I HAVE TO START MY COMPANY SO WHEN I BECOME 16 I CAN AFFORD A BIG VAN AND GO ON TRIPS WITH MY FRIENDS BUT I HAVE NO TIME LEFT I HAVE TO START WORKING</td>\n",
       "      <td>non-suicide</td>\n",
       "    </tr>\n",
       "    <tr>\n",
       "      <th>18790</th>\n",
       "      <td>A poem (haiku) for u/Me-Game-Dev hi, hello hello\\nstop fucking saying hello\\ni know where you live</td>\n",
       "      <td>non-suicide</td>\n",
       "    </tr>\n",
       "    <tr>\n",
       "      <th>21196</th>\n",
       "      <td>I've honestly got no idea what to do anymore.It feels as if everyone was fake, I feel like I'm backtalked and annoying. I can sometimes like hear my brain speaking to me ''hey.. heyy those people are fake dont talk to them''. So far the only thing that helps is music, but thats kinda stopping to work. I have 2 really fucking good friends and I don't deserve them. Nobody needs a suicidal fucktard who can't help you, who just pushes you away. What use am I to anyone? I barely do anything useful with my life. People say ''what about your loved ones?'' well if I've been fucking abused I don't really think that makes a difference except for my father whos actually fine, out of all my family he is the only one I'd feel about for having to suffer. I don't see a point in hanging on anymore. I'll never get better and I dont want to feel guilty by committing suicide. It is very hard for me to get help and I really don't see how I'm gonna get out of this. I feel like I'm just gonna off myself before I'm even 18. I don't want anyone to feel bad for me, I deserve all of this regardless</td>\n",
       "      <td>suicide</td>\n",
       "    </tr>\n",
       "    <tr>\n",
       "      <th>46089</th>\n",
       "      <td>Do you ever just cry? Like you just think about how unfair life is and you just cry? And if you can't cry do you ever just sit there and you can't do anything about it?\\n\\nLike seriously I'm just sitting here crying because just the world sucks and my life sucks and ugh</td>\n",
       "      <td>non-suicide</td>\n",
       "    </tr>\n",
       "    <tr>\n",
       "      <th>...</th>\n",
       "      <td>...</td>\n",
       "      <td>...</td>\n",
       "    </tr>\n",
       "    <tr>\n",
       "      <th>22314</th>\n",
       "      <td>You can all go fuck yourselvesShould wait until my birthday on Sun but the whiskey said now is good.\\n\\nI hate all of you and all your lies.\\n\\nBeen suffering longer than some of you dumb fucks been aline. Hope you learn just how ba d it can gte.\\n\\nBYE</td>\n",
       "      <td>suicide</td>\n",
       "    </tr>\n",
       "    <tr>\n",
       "      <th>162854</th>\n",
       "      <td>I dont want to die but I dont want to liveI've rewritten this about 4 times now and I just don't know how to put it into words. The word \"depression\" has seemingly lost its value over the past couple years because it seems like everyone has it now. And whether that's true or not, it's not taken as seriously as it should. I've been dealing with depression and anxiety for about 3 years and I've personally decided I cannot deal with this shit for one more fucking second. Not only does my depression put me in a constant loop of suicidal thoughts and despair, but it also pisses me off. I've had anger issues since I was a little kid and I've been taking meds for them for years and years and years now and those don't seem to helping, so I've been giving this whole thing some thought for quite some time now and I came to the conclusion that I don't understand who I am or what I'm doing here, and for that I don't enjoy life. To be more specific, nothing brings me joy anymore. I don't like video games, I don't like food, I don't like people, I don't like sleeping, I don't like being awake, I don't like my home, I don't like traveling, I don't like anything. I don't even like my own family. \\nA while back I figured out the meaning of life. (My meaning at least) to enjoy life. And I've realized that I just can't do that because I just don't like shit. I thought maybe one day this would end but it just seems to be getting worse. And I know everyone says that and also everyone says things get better, which I believe, but I don't care. I can't live like this any longer. I can't even cry. I've become so numb to the pain where I feel like I'm a fucking robot and all the emotions I feel are just in my head. Not to mention my thinking process. Anytime anything ever happens, I think to myself; is this worth being here for? And the answer is almost always no. In the midst of all of this I believe I was given a sign, I lost my job, my only friend and my girlfriend in one week. I have no motivation to do anything anymore. I don't like being alive but I just can't seem to kill myself. I wake up believing I exist for the sole purpose of being tortured every living second. This is my personal hell.\\n\\nPlease, someone save me. Leave a tip, a suggestion, anything. I'm about to give up. I can't take being alive much longer.</td>\n",
       "      <td>suicide</td>\n",
       "    </tr>\n",
       "    <tr>\n",
       "      <th>141849</th>\n",
       "      <td>Want to kill myselfI can't find reasons to live. I have friends, yet always feel lonely, and there aren't any problems at my house. I just want to stop living, and I've never been as close as today. I'm probably not depressed, I just feel a permanent sadness in my life, like every day is just a net loss for everyone around me, including me\\n</td>\n",
       "      <td>suicide</td>\n",
       "    </tr>\n",
       "    <tr>\n",
       "      <th>106508</th>\n",
       "      <td>Everything hurts.I just don't want to breathe anymore. I don't want to feel what I am feeling. I want to cut myself. Feel anything but this pain. I feel so weak and pathetic and I fucking loathe myself right now.\\n\\nI want to go to sleep and never wake up. I never want to think or feel again. I want the lights to just turn off.\\n\\nI don't know why I am writing this. I guess it's just because I can't tell anyone and I just needed to get it off my chest.\\n\\nI have been crying all day. I have had three complete meltdowns and almost had an anxiety attack. can't eat, I can't sleep. The only thing keeping me from losing my mind is getting absorbed into work. And even then I feel it. I feel it like a migraine. Egging me and beating me.\\n\\nI feel like someone is punching me in the chest, over and over.\\n\\nEven just when I step outside to smoke I completely break down.\\n\\nI am scared to go home. I am scared to be alone.\\n</td>\n",
       "      <td>suicide</td>\n",
       "    </tr>\n",
       "    <tr>\n",
       "      <th>311039</th>\n",
       "      <td>What an amazing day!Of doing literaly nothing and still being exhausted simply by existance. Kill me finally.</td>\n",
       "      <td>suicide</td>\n",
       "    </tr>\n",
       "  </tbody>\n",
       "</table>\n",
       "<p>6000 rows × 2 columns</p>\n",
       "</div>"
      ],
      "text/plain": [
       "                                                                                                                                                                                                                                                                                                                                                                                                                                                                                                                                                                                                                                                                                                                                                                                                                                                                                                                                                                                                                                                                                                                                                                                                                                                                                                                                                                                                                                                                                                                                                                                                                                                                                                                                                                                                                                                                                                                                                                                                                                                                                                                                                                                                                                                                                                                                                                                                                                    text  \\\n",
       "111734                                                                                                                                                                                                                                                                                                                                                                                                                                                                                                                                                                                                                                                                                                                                                                                                                                                                                                                                                                                                                                                                                                                                                                                                                                                                                                                                                                                                                                                                                                                                                             I Don't know?7? Months self harm free and the urge just gets stronger and stronger every day. The past few days I've just been shit... \\nMy family stresses me out especially my nephew (he's 12) My mum has full custody of him and he's told me to go kill myself numerous times.. I wish it was that easy.\\nMy partners family stresses me out especially over the past few days. \\nStress is my trigger \\nI just want to scream and cry. \\nI live near the woods so I could go out and scream till I can't possibly scream anymore but the cops will probably get called...\\nMy OH knows about my depression but he doesn't really know how I'm feeling at the moment. He would want to come over and make sure I'm OK but he's fucking annoying. He annoys me all the time by doing small stupid things. \\nI don't even know where I'm going with the post? \\n\\n   \n",
       "224358                                                                                                                                                                                                                                                                                                                                                                                                                                                                                                                                                                                                                                                                                                                                                                                                                                                                                                                                                                                                                                                                                                                                                                                                                                                                                                                                                                                                                                                                                                                                                                                                                                                                                                                                                                                                                                                                                                                                                                                                                                                                                                                                                                                                                                               I HAVE TO START BECOMING RICH I HAVE TO START MY COMPANY SO WHEN I BECOME 16 I CAN AFFORD A BIG VAN AND GO ON TRIPS WITH MY FRIENDS BUT I HAVE NO TIME LEFT I HAVE TO START WORKING   \n",
       "18790                                                                                                                                                                                                                                                                                                                                                                                                                                                                                                                                                                                                                                                                                                                                                                                                                                                                                                                                                                                                                                                                                                                                                                                                                                                                                                                                                                                                                                                                                                                                                                                                                                                                                                                                                                                                                                                                                                                                                                                                                                                                                                                                                                                                                                                                                                                                 A poem (haiku) for u/Me-Game-Dev hi, hello hello\\nstop fucking saying hello\\ni know where you live   \n",
       "21196                                                                                                                                                                                                                                                                                                                                                                                                                                                                                                                                                                                                                                                                                                                                                                                                                                                                                                                                                                                                                                                                                                                                                                                                                                                                                                  I've honestly got no idea what to do anymore.It feels as if everyone was fake, I feel like I'm backtalked and annoying. I can sometimes like hear my brain speaking to me ''hey.. heyy those people are fake dont talk to them''. So far the only thing that helps is music, but thats kinda stopping to work. I have 2 really fucking good friends and I don't deserve them. Nobody needs a suicidal fucktard who can't help you, who just pushes you away. What use am I to anyone? I barely do anything useful with my life. People say ''what about your loved ones?'' well if I've been fucking abused I don't really think that makes a difference except for my father whos actually fine, out of all my family he is the only one I'd feel about for having to suffer. I don't see a point in hanging on anymore. I'll never get better and I dont want to feel guilty by committing suicide. It is very hard for me to get help and I really don't see how I'm gonna get out of this. I feel like I'm just gonna off myself before I'm even 18. I don't want anyone to feel bad for me, I deserve all of this regardless   \n",
       "46089                                                                                                                                                                                                                                                                                                                                                                                                                                                                                                                                                                                                                                                                                                                                                                                                                                                                                                                                                                                                                                                                                                                                                                                                                                                                                                                                                                                                                                                                                                                                                                                                                                                                                                                                                                                                                                                                                                                                                                                                                                                                                                                                                     Do you ever just cry? Like you just think about how unfair life is and you just cry? And if you can't cry do you ever just sit there and you can't do anything about it?\\n\\nLike seriously I'm just sitting here crying because just the world sucks and my life sucks and ugh   \n",
       "...                                                                                                                                                                                                                                                                                                                                                                                                                                                                                                                                                                                                                                                                                                                                                                                                                                                                                                                                                                                                                                                                                                                                                                                                                                                                                                                                                                                                                                                                                                                                                                                                                                                                                                                                                                                                                                                                                                                                                                                                                                                                                                                                                                                                                                                                                                                                                                                                                                  ...   \n",
       "22314                                                                                                                                                                                                                                                                                                                                                                                                                                                                                                                                                                                                                                                                                                                                                                                                                                                                                                                                                                                                                                                                                                                                                                                                                                                                                                                                                                                                                                                                                                                                                                                                                                                                                                                                                                                                                                                                                                                                                                                                                                                                                                                                                                      You can all go fuck yourselvesShould wait until my birthday on Sun but the whiskey said now is good.\\n\\nI hate all of you and all your lies.\\n\\nBeen suffering longer than some of you dumb fucks been aline. Hope you learn just how ba d it can gte.\\n\\nBYE   \n",
       "162854  I dont want to die but I dont want to liveI've rewritten this about 4 times now and I just don't know how to put it into words. The word \"depression\" has seemingly lost its value over the past couple years because it seems like everyone has it now. And whether that's true or not, it's not taken as seriously as it should. I've been dealing with depression and anxiety for about 3 years and I've personally decided I cannot deal with this shit for one more fucking second. Not only does my depression put me in a constant loop of suicidal thoughts and despair, but it also pisses me off. I've had anger issues since I was a little kid and I've been taking meds for them for years and years and years now and those don't seem to helping, so I've been giving this whole thing some thought for quite some time now and I came to the conclusion that I don't understand who I am or what I'm doing here, and for that I don't enjoy life. To be more specific, nothing brings me joy anymore. I don't like video games, I don't like food, I don't like people, I don't like sleeping, I don't like being awake, I don't like my home, I don't like traveling, I don't like anything. I don't even like my own family. \\nA while back I figured out the meaning of life. (My meaning at least) to enjoy life. And I've realized that I just can't do that because I just don't like shit. I thought maybe one day this would end but it just seems to be getting worse. And I know everyone says that and also everyone says things get better, which I believe, but I don't care. I can't live like this any longer. I can't even cry. I've become so numb to the pain where I feel like I'm a fucking robot and all the emotions I feel are just in my head. Not to mention my thinking process. Anytime anything ever happens, I think to myself; is this worth being here for? And the answer is almost always no. In the midst of all of this I believe I was given a sign, I lost my job, my only friend and my girlfriend in one week. I have no motivation to do anything anymore. I don't like being alive but I just can't seem to kill myself. I wake up believing I exist for the sole purpose of being tortured every living second. This is my personal hell.\\n\\nPlease, someone save me. Leave a tip, a suggestion, anything. I'm about to give up. I can't take being alive much longer.   \n",
       "141849                                                                                                                                                                                                                                                                                                                                                                                                                                                                                                                                                                                                                                                                                                                                                                                                                                                                                                                                                                                                                                                                                                                                                                                                                                                                                                                                                                                                                                                                                                                                                                                                                                                                                                                                                                                                                                                                                                                                                                                                                                                                           Want to kill myselfI can't find reasons to live. I have friends, yet always feel lonely, and there aren't any problems at my house. I just want to stop living, and I've never been as close as today. I'm probably not depressed, I just feel a permanent sadness in my life, like every day is just a net loss for everyone around me, including me\\n   \n",
       "106508                                                                                                                                                                                                                                                                                                                                                                                                                                                                                                                                                                                                                                                                                                                                                                                                                                                                                                                                                                                                                                                                                                                                                                                                                                                                                                                                                                                                                                                                    Everything hurts.I just don't want to breathe anymore. I don't want to feel what I am feeling. I want to cut myself. Feel anything but this pain. I feel so weak and pathetic and I fucking loathe myself right now.\\n\\nI want to go to sleep and never wake up. I never want to think or feel again. I want the lights to just turn off.\\n\\nI don't know why I am writing this. I guess it's just because I can't tell anyone and I just needed to get it off my chest.\\n\\nI have been crying all day. I have had three complete meltdowns and almost had an anxiety attack. can't eat, I can't sleep. The only thing keeping me from losing my mind is getting absorbed into work. And even then I feel it. I feel it like a migraine. Egging me and beating me.\\n\\nI feel like someone is punching me in the chest, over and over.\\n\\nEven just when I step outside to smoke I completely break down.\\n\\nI am scared to go home. I am scared to be alone.\\n   \n",
       "311039                                                                                                                                                                                                                                                                                                                                                                                                                                                                                                                                                                                                                                                                                                                                                                                                                                                                                                                                                                                                                                                                                                                                                                                                                                                                                                                                                                                                                                                                                                                                                                                                                                                                                                                                                                                                                                                                                                                                                                                                                                                                                                                                                                                                                                                                                                                     What an amazing day!Of doing literaly nothing and still being exhausted simply by existance. Kill me finally.   \n",
       "\n",
       "              class  \n",
       "111734      suicide  \n",
       "224358  non-suicide  \n",
       "18790   non-suicide  \n",
       "21196       suicide  \n",
       "46089   non-suicide  \n",
       "...             ...  \n",
       "22314       suicide  \n",
       "162854      suicide  \n",
       "141849      suicide  \n",
       "106508      suicide  \n",
       "311039      suicide  \n",
       "\n",
       "[6000 rows x 2 columns]"
      ]
     },
     "execution_count": 23,
     "metadata": {},
     "output_type": "execute_result"
    }
   ],
   "source": [
    "df"
   ]
  },
  {
   "cell_type": "code",
   "execution_count": 5,
   "id": "cdf60520-c1db-4d75-ae73-65a135d2c0d4",
   "metadata": {
    "tags": []
   },
   "outputs": [
    {
     "data": {
      "text/plain": [
       "array(['suicide', 'non-suicide'], dtype=object)"
      ]
     },
     "execution_count": 5,
     "metadata": {},
     "output_type": "execute_result"
    }
   ],
   "source": [
    "# find the unique value of the column 'class'by the method 'unique'\n",
    "df['class'].unique()"
   ]
  },
  {
   "cell_type": "code",
   "execution_count": 6,
   "id": "f61f3e18-4435-4450-8475-f634dcc7050f",
   "metadata": {
    "tags": []
   },
   "outputs": [
    {
     "data": {
      "text/plain": [
       "class\n",
       "non-suicide    6029\n",
       "suicide        5971\n",
       "Name: count, dtype: int64"
      ]
     },
     "execution_count": 6,
     "metadata": {},
     "output_type": "execute_result"
    }
   ],
   "source": [
    "# count the unique values in column 'class' by value_counts method\n",
    "df['class'].value_counts()"
   ]
  },
  {
   "cell_type": "code",
   "execution_count": 7,
   "id": "fecd114e-a69a-4abf-80de-6c4aea1c6b9c",
   "metadata": {
    "tags": []
   },
   "outputs": [
    {
     "data": {
      "text/plain": [
       "text     0\n",
       "class    0\n",
       "dtype: int64"
      ]
     },
     "execution_count": 7,
     "metadata": {},
     "output_type": "execute_result"
    }
   ],
   "source": [
    "# find missing values\n",
    "df. isnull().sum()"
   ]
  },
  {
   "cell_type": "code",
   "execution_count": 3,
   "id": "30348162-c816-4dbd-a1b2-8ffa39229ee2",
   "metadata": {
    "tags": []
   },
   "outputs": [],
   "source": [
    "# Function to remove punctuation from a column\n",
    "def remove_punctuation(text):\n",
    "    return text.str.replace(r'[^\\w\\s]', '', regex=True)\n",
    "\n",
    "# Apply the function to the 'text' column\n",
    "df['text'] = remove_punctuation(df['text'])"
   ]
  },
  {
   "cell_type": "code",
   "execution_count": 9,
   "id": "38f41ada-32e1-465a-909d-530b9131b8e5",
   "metadata": {
    "collapsed": true,
    "jupyter": {
     "outputs_hidden": true
    },
    "tags": []
   },
   "outputs": [
    {
     "data": {
      "text/html": [
       "<div>\n",
       "<style scoped>\n",
       "    .dataframe tbody tr th:only-of-type {\n",
       "        vertical-align: middle;\n",
       "    }\n",
       "\n",
       "    .dataframe tbody tr th {\n",
       "        vertical-align: top;\n",
       "    }\n",
       "\n",
       "    .dataframe thead th {\n",
       "        text-align: right;\n",
       "    }\n",
       "</style>\n",
       "<table border=\"1\" class=\"dataframe\">\n",
       "  <thead>\n",
       "    <tr style=\"text-align: right;\">\n",
       "      <th></th>\n",
       "      <th>text</th>\n",
       "      <th>class</th>\n",
       "    </tr>\n",
       "  </thead>\n",
       "  <tbody>\n",
       "    <tr>\n",
       "      <th>111734</th>\n",
       "      <td>I Dont know7 Months self harm free and the urge just gets stronger and stronger every day The past few days Ive just been shit \\nMy family stresses me out especially my nephew hes 12 My mum has full custody of him and hes told me to go kill myself numerous times I wish it was that easy\\nMy partners family stresses me out especially over the past few days \\nStress is my trigger \\nI just want to scream and cry \\nI live near the woods so I could go out and scream till I cant possibly scream anymore but the cops will probably get called\\nMy OH knows about my depression but he doesnt really know how Im feeling at the moment He would want to come over and make sure Im OK but hes fucking annoying He annoys me all the time by doing small stupid things \\nI dont even know where Im going with the post \\n\\n</td>\n",
       "      <td>suicide</td>\n",
       "    </tr>\n",
       "    <tr>\n",
       "      <th>224358</th>\n",
       "      <td>I HAVE TO START BECOMING RICH I HAVE TO START MY COMPANY SO WHEN I BECOME 16 I CAN AFFORD A BIG VAN AND GO ON TRIPS WITH MY FRIENDS BUT I HAVE NO TIME LEFT I HAVE TO START WORKING</td>\n",
       "      <td>non-suicide</td>\n",
       "    </tr>\n",
       "    <tr>\n",
       "      <th>18790</th>\n",
       "      <td>A poem haiku for uMeGameDev hi hello hello\\nstop fucking saying hello\\ni know where you live</td>\n",
       "      <td>non-suicide</td>\n",
       "    </tr>\n",
       "    <tr>\n",
       "      <th>21196</th>\n",
       "      <td>Ive honestly got no idea what to do anymoreIt feels as if everyone was fake I feel like Im backtalked and annoying I can sometimes like hear my brain speaking to me hey heyy those people are fake dont talk to them So far the only thing that helps is music but thats kinda stopping to work I have 2 really fucking good friends and I dont deserve them Nobody needs a suicidal fucktard who cant help you who just pushes you away What use am I to anyone I barely do anything useful with my life People say what about your loved ones well if Ive been fucking abused I dont really think that makes a difference except for my father whos actually fine out of all my family he is the only one Id feel about for having to suffer I dont see a point in hanging on anymore Ill never get better and I dont want to feel guilty by committing suicide It is very hard for me to get help and I really dont see how Im gonna get out of this I feel like Im just gonna off myself before Im even 18 I dont want anyone to feel bad for me I deserve all of this regardless</td>\n",
       "      <td>suicide</td>\n",
       "    </tr>\n",
       "    <tr>\n",
       "      <th>46089</th>\n",
       "      <td>Do you ever just cry Like you just think about how unfair life is and you just cry And if you cant cry do you ever just sit there and you cant do anything about it\\n\\nLike seriously Im just sitting here crying because just the world sucks and my life sucks and ugh</td>\n",
       "      <td>non-suicide</td>\n",
       "    </tr>\n",
       "    <tr>\n",
       "      <th>...</th>\n",
       "      <td>...</td>\n",
       "      <td>...</td>\n",
       "    </tr>\n",
       "    <tr>\n",
       "      <th>179647</th>\n",
       "      <td>Im trying to start something Hey everyone My name is Sharva and I will be going into high school soon and I made a goal for myself to start a small business and make it successful as I progress throughout school  I would really appreciate it if you check out my quick survey I made to start out itll only take 15 minutes If you would not like to take the survey that is completely okay and have a nice day \\n\\nhttpsformsgleRrc2HggcqUWJaAhe8</td>\n",
       "      <td>non-suicide</td>\n",
       "    </tr>\n",
       "    <tr>\n",
       "      <th>66137</th>\n",
       "      <td>Ive lost itI wear a mask At least I used too I wore it for years Im tired of wearing a mask \\n\\nYea Im gone Hard to believe right No not really Right now you are doing one of two things either asking what you could have done differently or be celebrating \\nHonestly you should be celebrating Yay No more having to pretend to like that guy at work I get it Ive seen it youve said it even if you didnt mean to \\nFor those of you asking what you could have done differently maybe once asking how I was really doing would have been a great start maybe it wouldnt have helped I dont\\nknow remember that mask I talked about earlier yeah that \\n\\nI loved the work I begged for it pleaded for it daily Work got me through the day with some sort of feeling of accomplishment I could see most didnt care about that\\nwork nor did they understand it I get it its fine X doing X things and such I was never looking for the center of attention or all the praise although\\nsometimes it may have seemed that way I tried to do what I thought was best sometimes that failed sometimes it succeeded in my mind it was never good enough \\n\\nLet me explain why so that you can stop asking that question \\n\\nI couldnt stop the racing thoughts Hour over hour minute after minute second after second my mind raced with all sorts of thoughts Between my past where I struggled\\nwith my size in middle school to my academic failures in high school to my failed relationships to my failure as a leader in this Air Force it all came and went in \\nfleeting moments every day It wouldnt stop\\n\\nLets be honest I struggle with my size now but its become a part of me that I cant change so whatever \\n\\nMaybe Im crazy and looking at everything through a fogged lens If that was the case then Im damaged goods and something that cant be repaired Trust me Ive thought\\nof that too Maybe everyone actually likes you and you just cant see it Well then what good am I if I cannot even feel the warmth of the people around me I never\\nfelt warmth honestly I felt cold almost always yet I like the cold weather maybe the cold weather and myself were supposed to be together bury me in snow please \\n\\nWhatever the end may hold for me I go into it knowing that those left behind will be sad angry and confused Im sorry Please dont blame yourself I lived some great moments in my life I really did I remember the ballgames I remember the trips to the fireworks store I remember the lunches at the hospital I remember sitting and\\nwatching you grow up I remember it all My mind has been so muddy and confused for so long my body hurts and my spirit is broken I love you \\n\\nI love you Remember that Maybe I didnt always show it maybe I wasnt as appreciative as I should have been but believe me when I say I was always thankful \\n\\nMy time has come this chapter ends here May tomorrow bring something new and yesterday be filled with experiences we may never forget</td>\n",
       "      <td>suicide</td>\n",
       "    </tr>\n",
       "    <tr>\n",
       "      <th>158146</th>\n",
       "      <td>The ungrateful have everything and moreWhy is it that theres so many ungrateful people with families who love them and all my life Ive just been aiming to create a family who will love me back\\n\\nTheres girls with amazing hard working boyfriends and I cant even get someone to commit to me after two years\\n\\nEveryone lies to me Everyone doesnt think Im enough for them\\n\\nI dont get why Im here People just use and hurt me I dont want to feel this pain anymore\\n\\nEveryone scares me I have no trust in anyone no matter what And my intuition is always right\\n\\nI want to die so badly And I have been wanting to for so long I just want the courage to do it for once I need to get it over with so this pain will go away People have hurt me for too long and all I want is just for one person to love me And no matter how hard I try I cant even get that\\n\\nIt comes so simply to others but for some reason im unlovable Why Im a good person I go so far out of my way just to make sure I dont give someone the false intention that I dont care about their feelings Yet people continue to use and lie to me And take advantage of me and use me up until theyve had their fun\\n\\nI just want to die\\nI have nothing to live for\\nProbably going to cut myself as soon as I can find my scissors Thats the only thing that calms me down My life is pathetic Im pathetic Im a loser A failure An idiot Im ugly stupid worthless He was right Theres no use for me being on this earth I pray Ill be able to get it over with soon Im tired of life Im tired of pain I just want someone to hug me and help me Thats all Why cant I have that Thats all I ask for \\n</td>\n",
       "      <td>suicide</td>\n",
       "    </tr>\n",
       "    <tr>\n",
       "      <th>51833</th>\n",
       "      <td>I cant believe I want to die againIm 18 the last time I was seriously contemplating suicide was when I was 15 I havent been 100 OK since then but at least I didnt plan on killing myself \\n\\nBut three years later I find myself in the same exact spot fucking up school just as badly except this time Im legally an adult and I dont have my mother to LEGALLY fall back on She is retiring I wish I could be of support to her instead of a burden Im gettick kicked out of high school AGAIN Ive been to two different ones Im already a year behind because of this\\n\\nI was planning on being famous by this point Guess things dont work that way I burnt all 100 of my savings a mere two weeks after my 18th birthday on a trip to Japan just to let myself live a little and experience something before I died\\n\\nIve done almost everything Ive wanted to do gone to Japan dyed my hair a crazy color Not a lot else motivates me I have access to heroin I want to go that way Always have deep down\\n\\n\\nIm just really baffled and disappointed that Im back here again And like the last time I was right on the edge my family only seems to push me off When I was feeling better maybe a year ago I told them about my previous suicide attempt with oxycodone They cried But now Im showing the symptoms again that Im getting bad I even explicitly told my mother Im back in that state of mind \\n\\nBut she only makes the same mistakes she did last time Lash out at me call me a piece of shit child Oh well Part of me wants to die to prove a point to let her know its her fault for being selfish The other part of me just wants to get out for this to be over with\\n\\nI gave it another three years I crossed a lot of my bucket list And thats enough for me to check out forever \\n\\nIll meet you all in the infinite conciousness I guess Hasta la vista baby</td>\n",
       "      <td>suicide</td>\n",
       "    </tr>\n",
       "    <tr>\n",
       "      <th>312335</th>\n",
       "      <td>Im scared Ill never get a girlfriendIve tried dating apps but Im too ugly for them I have no ways of meeting girls Im not funny either Im absolutely terrible at making jokes</td>\n",
       "      <td>suicide</td>\n",
       "    </tr>\n",
       "  </tbody>\n",
       "</table>\n",
       "<p>12000 rows × 2 columns</p>\n",
       "</div>"
      ],
      "text/plain": [
       "                                                                                                                                                                                                                                                                                                                                                                                                                                                                                                                                                                                                                                                                                                                                                                                                                                                                                                                                                                                                                                                                                                                                                                                                                                                                                                                                                                                                                                                                                                                                                                                                                                                                                                                                                                                                                                                                                                                                                                                                                                                                                                                                                                                                                                                                                                                                                                                                                                                                                                                                                                                                                                                                                                                                                                                                                                                                                                                                                                                                                                             text  \\\n",
       "111734                                                                                                                                                                                                                                                                                                                                                                                                                                                                                                                                                                                                                                                                                                                                                                                                                                                                                                                                                                                                                                                                                                                                                                                                                                                                                                                                                                                                                                                                                                                                                                                                                                                                                                                                                                                                                                                                                                                                                                                                                                                                                                                                                                                                     I Dont know7 Months self harm free and the urge just gets stronger and stronger every day The past few days Ive just been shit \\nMy family stresses me out especially my nephew hes 12 My mum has full custody of him and hes told me to go kill myself numerous times I wish it was that easy\\nMy partners family stresses me out especially over the past few days \\nStress is my trigger \\nI just want to scream and cry \\nI live near the woods so I could go out and scream till I cant possibly scream anymore but the cops will probably get called\\nMy OH knows about my depression but he doesnt really know how Im feeling at the moment He would want to come over and make sure Im OK but hes fucking annoying He annoys me all the time by doing small stupid things \\nI dont even know where Im going with the post \\n\\n   \n",
       "224358                                                                                                                                                                                                                                                                                                                                                                                                                                                                                                                                                                                                                                                                                                                                                                                                                                                                                                                                                                                                                                                                                                                                                                                                                                                                                                                                                                                                                                                                                                                                                                                                                                                                                                                                                                                                                                                                                                                                                                                                                                                                                                                                                                                                                                                                                                                                                                                                                                                                                                                                                                                                                                                                                                                                                                                                                                                        I HAVE TO START BECOMING RICH I HAVE TO START MY COMPANY SO WHEN I BECOME 16 I CAN AFFORD A BIG VAN AND GO ON TRIPS WITH MY FRIENDS BUT I HAVE NO TIME LEFT I HAVE TO START WORKING   \n",
       "18790                                                                                                                                                                                                                                                                                                                                                                                                                                                                                                                                                                                                                                                                                                                                                                                                                                                                                                                                                                                                                                                                                                                                                                                                                                                                                                                                                                                                                                                                                                                                                                                                                                                                                                                                                                                                                                                                                                                                                                                                                                                                                                                                                                                                                                                                                                                                                                                                                                                                                                                                                                                                                                                                                                                                                                                                                                                                                                                                                A poem haiku for uMeGameDev hi hello hello\\nstop fucking saying hello\\ni know where you live   \n",
       "21196                                                                                                                                                                                                                                                                                                                                                                                                                                                                                                                                                                                                                                                                                                                                                                                                                                                                                                                                                                                                                                                                                                                                                                                                                                                                                                                                                                                                                                                                                                                                                                                                                                                                                                                                                                                                                                                                                                                                                      Ive honestly got no idea what to do anymoreIt feels as if everyone was fake I feel like Im backtalked and annoying I can sometimes like hear my brain speaking to me hey heyy those people are fake dont talk to them So far the only thing that helps is music but thats kinda stopping to work I have 2 really fucking good friends and I dont deserve them Nobody needs a suicidal fucktard who cant help you who just pushes you away What use am I to anyone I barely do anything useful with my life People say what about your loved ones well if Ive been fucking abused I dont really think that makes a difference except for my father whos actually fine out of all my family he is the only one Id feel about for having to suffer I dont see a point in hanging on anymore Ill never get better and I dont want to feel guilty by committing suicide It is very hard for me to get help and I really dont see how Im gonna get out of this I feel like Im just gonna off myself before Im even 18 I dont want anyone to feel bad for me I deserve all of this regardless   \n",
       "46089                                                                                                                                                                                                                                                                                                                                                                                                                                                                                                                                                                                                                                                                                                                                                                                                                                                                                                                                                                                                                                                                                                                                                                                                                                                                                                                                                                                                                                                                                                                                                                                                                                                                                                                                                                                                                                                                                                                                                                                                                                                                                                                                                                                                                                                                                                                                                                                                                                                                                                                                                                                                                                                                                                                                                                    Do you ever just cry Like you just think about how unfair life is and you just cry And if you cant cry do you ever just sit there and you cant do anything about it\\n\\nLike seriously Im just sitting here crying because just the world sucks and my life sucks and ugh   \n",
       "...                                                                                                                                                                                                                                                                                                                                                                                                                                                                                                                                                                                                                                                                                                                                                                                                                                                                                                                                                                                                                                                                                                                                                                                                                                                                                                                                                                                                                                                                                                                                                                                                                                                                                                                                                                                                                                                                                                                                                                                                                                                                                                                                                                                                                                                                                                                                                                                                                                                                                                                                                                                                                                                                                                                                                                                                                                                                                                                                                                                                                                           ...   \n",
       "179647                                                                                                                                                                                                                                                                                                                                                                                                                                                                                                                                                                                                                                                                                                                                                                                                                                                                                                                                                                                                                                                                                                                                                                                                                                                                                                                                                                                                                                                                                                                                                                                                                                                                                                                                                                                                                                                                                                                                                                                                                                                                                                                                                                                                                                                                                                                                                                                                                                                                                                                                                                                   Im trying to start something Hey everyone My name is Sharva and I will be going into high school soon and I made a goal for myself to start a small business and make it successful as I progress throughout school  I would really appreciate it if you check out my quick survey I made to start out itll only take 15 minutes If you would not like to take the survey that is completely okay and have a nice day \\n\\nhttpsformsgleRrc2HggcqUWJaAhe8   \n",
       "66137   Ive lost itI wear a mask At least I used too I wore it for years Im tired of wearing a mask \\n\\nYea Im gone Hard to believe right No not really Right now you are doing one of two things either asking what you could have done differently or be celebrating \\nHonestly you should be celebrating Yay No more having to pretend to like that guy at work I get it Ive seen it youve said it even if you didnt mean to \\nFor those of you asking what you could have done differently maybe once asking how I was really doing would have been a great start maybe it wouldnt have helped I dont\\nknow remember that mask I talked about earlier yeah that \\n\\nI loved the work I begged for it pleaded for it daily Work got me through the day with some sort of feeling of accomplishment I could see most didnt care about that\\nwork nor did they understand it I get it its fine X doing X things and such I was never looking for the center of attention or all the praise although\\nsometimes it may have seemed that way I tried to do what I thought was best sometimes that failed sometimes it succeeded in my mind it was never good enough \\n\\nLet me explain why so that you can stop asking that question \\n\\nI couldnt stop the racing thoughts Hour over hour minute after minute second after second my mind raced with all sorts of thoughts Between my past where I struggled\\nwith my size in middle school to my academic failures in high school to my failed relationships to my failure as a leader in this Air Force it all came and went in \\nfleeting moments every day It wouldnt stop\\n\\nLets be honest I struggle with my size now but its become a part of me that I cant change so whatever \\n\\nMaybe Im crazy and looking at everything through a fogged lens If that was the case then Im damaged goods and something that cant be repaired Trust me Ive thought\\nof that too Maybe everyone actually likes you and you just cant see it Well then what good am I if I cannot even feel the warmth of the people around me I never\\nfelt warmth honestly I felt cold almost always yet I like the cold weather maybe the cold weather and myself were supposed to be together bury me in snow please \\n\\nWhatever the end may hold for me I go into it knowing that those left behind will be sad angry and confused Im sorry Please dont blame yourself I lived some great moments in my life I really did I remember the ballgames I remember the trips to the fireworks store I remember the lunches at the hospital I remember sitting and\\nwatching you grow up I remember it all My mind has been so muddy and confused for so long my body hurts and my spirit is broken I love you \\n\\nI love you Remember that Maybe I didnt always show it maybe I wasnt as appreciative as I should have been but believe me when I say I was always thankful \\n\\nMy time has come this chapter ends here May tomorrow bring something new and yesterday be filled with experiences we may never forget    \n",
       "158146                                                                                                                                                                                                                                                                                                                                                                                                                                                                                                                                                                                                                                                                                                                                                                                                                                                                                                                                                                                                                                                                                                                                                                                                                                                                                                                                          The ungrateful have everything and moreWhy is it that theres so many ungrateful people with families who love them and all my life Ive just been aiming to create a family who will love me back\\n\\nTheres girls with amazing hard working boyfriends and I cant even get someone to commit to me after two years\\n\\nEveryone lies to me Everyone doesnt think Im enough for them\\n\\nI dont get why Im here People just use and hurt me I dont want to feel this pain anymore\\n\\nEveryone scares me I have no trust in anyone no matter what And my intuition is always right\\n\\nI want to die so badly And I have been wanting to for so long I just want the courage to do it for once I need to get it over with so this pain will go away People have hurt me for too long and all I want is just for one person to love me And no matter how hard I try I cant even get that\\n\\nIt comes so simply to others but for some reason im unlovable Why Im a good person I go so far out of my way just to make sure I dont give someone the false intention that I dont care about their feelings Yet people continue to use and lie to me And take advantage of me and use me up until theyve had their fun\\n\\nI just want to die\\nI have nothing to live for\\nProbably going to cut myself as soon as I can find my scissors Thats the only thing that calms me down My life is pathetic Im pathetic Im a loser A failure An idiot Im ugly stupid worthless He was right Theres no use for me being on this earth I pray Ill be able to get it over with soon Im tired of life Im tired of pain I just want someone to hug me and help me Thats all Why cant I have that Thats all I ask for \\n   \n",
       "51833                                                                                                                                                                                                                                                                                                                                                                                                                                                                                                                                                                                                                                                                                                                                                                                                                                                                                                                                                                                                                                                                                                                                         I cant believe I want to die againIm 18 the last time I was seriously contemplating suicide was when I was 15 I havent been 100 OK since then but at least I didnt plan on killing myself \\n\\nBut three years later I find myself in the same exact spot fucking up school just as badly except this time Im legally an adult and I dont have my mother to LEGALLY fall back on She is retiring I wish I could be of support to her instead of a burden Im gettick kicked out of high school AGAIN Ive been to two different ones Im already a year behind because of this\\n\\nI was planning on being famous by this point Guess things dont work that way I burnt all 100 of my savings a mere two weeks after my 18th birthday on a trip to Japan just to let myself live a little and experience something before I died\\n\\nIve done almost everything Ive wanted to do gone to Japan dyed my hair a crazy color Not a lot else motivates me I have access to heroin I want to go that way Always have deep down\\n\\n\\nIm just really baffled and disappointed that Im back here again And like the last time I was right on the edge my family only seems to push me off When I was feeling better maybe a year ago I told them about my previous suicide attempt with oxycodone They cried But now Im showing the symptoms again that Im getting bad I even explicitly told my mother Im back in that state of mind \\n\\nBut she only makes the same mistakes she did last time Lash out at me call me a piece of shit child Oh well Part of me wants to die to prove a point to let her know its her fault for being selfish The other part of me just wants to get out for this to be over with\\n\\nI gave it another three years I crossed a lot of my bucket list And thats enough for me to check out forever \\n\\nIll meet you all in the infinite conciousness I guess Hasta la vista baby    \n",
       "312335                                                                                                                                                                                                                                                                                                                                                                                                                                                                                                                                                                                                                                                                                                                                                                                                                                                                                                                                                                                                                                                                                                                                                                                                                                                                                                                                                                                                                                                                                                                                                                                                                                                                                                                                                                                                                                                                                                                                                                                                                                                                                                                                                                                                                                                                                                                                                                                                                                                                                                                                                                                                                                                                                                                                                                                                                                                              Im scared Ill never get a girlfriendIve tried dating apps but Im too ugly for them I have no ways of meeting girls Im not funny either Im absolutely terrible at making jokes   \n",
       "\n",
       "              class  \n",
       "111734      suicide  \n",
       "224358  non-suicide  \n",
       "18790   non-suicide  \n",
       "21196       suicide  \n",
       "46089   non-suicide  \n",
       "...             ...  \n",
       "179647  non-suicide  \n",
       "66137       suicide  \n",
       "158146      suicide  \n",
       "51833       suicide  \n",
       "312335      suicide  \n",
       "\n",
       "[12000 rows x 2 columns]"
      ]
     },
     "execution_count": 9,
     "metadata": {},
     "output_type": "execute_result"
    }
   ],
   "source": [
    "df"
   ]
  },
  {
   "cell_type": "code",
   "execution_count": 4,
   "id": "1a213ad3-1009-4ed9-b1ce-7f5b1c835404",
   "metadata": {
    "tags": []
   },
   "outputs": [],
   "source": [
    "# remove stop words\n",
    "import nltk\n",
    "from nltk.corpus import stopwords"
   ]
  },
  {
   "cell_type": "code",
   "execution_count": 5,
   "id": "5c5520b3-d15a-45d2-a847-f262c23e6d23",
   "metadata": {
    "tags": []
   },
   "outputs": [
    {
     "name": "stderr",
     "output_type": "stream",
     "text": [
      "[nltk_data] Downloading package stopwords to\n",
      "[nltk_data]     C:\\Users\\rose2\\AppData\\Roaming\\nltk_data...\n",
      "[nltk_data]   Package stopwords is already up-to-date!\n"
     ]
    }
   ],
   "source": [
    "# Download the stopwords\n",
    "nltk.download('stopwords')\n",
    "\n",
    "# Get the list of English stop words\n",
    "stop_words = set(stopwords.words('english'))\n",
    "\n",
    "# Define a function to remove stop_words\n",
    "def remove_stopwords(text):\n",
    "    filtered_words = [word for word in text.split() if word.lower() not in stop_words]\n",
    "    filtered_text = ' '.join(filtered_words)\n",
    "    return filtered_text"
   ]
  },
  {
   "cell_type": "code",
   "execution_count": 6,
   "id": "188f6ff8-01b5-4d10-aa36-73a71597c4b6",
   "metadata": {
    "tags": []
   },
   "outputs": [],
   "source": [
    "# Apply the function to the 'text' column\n",
    "df['text'] = df['text'].map(remove_stopwords)"
   ]
  },
  {
   "cell_type": "code",
   "execution_count": 14,
   "id": "f66d4ea4-b091-49a9-b808-b513aa2b1f0d",
   "metadata": {
    "tags": []
   },
   "outputs": [
    {
     "data": {
      "text/plain": [
       "111734    Dont know7 Months self harm free urge gets stronger stronger every day past days Ive shit family stresses especially nephew hes 12 mum full custody hes told go kill numerous times wish easy partners family stresses especially past days Stress trigger want scream cry live near woods could go scream till cant possibly scream anymore cops probably get called OH knows depression doesnt really know Im feeling moment would want come make sure Im OK hes fucking annoying annoys time small stupid things dont even know Im going post\n",
       "Name: text, dtype: object"
      ]
     },
     "execution_count": 14,
     "metadata": {},
     "output_type": "execute_result"
    }
   ],
   "source": [
    "df.iloc[0:1,0]"
   ]
  },
  {
   "cell_type": "markdown",
   "id": "b5fc61c2-56b1-4fdf-a442-9e949eb0284b",
   "metadata": {},
   "source": [
    "#### Find the most common words used for suicide and non-suicide group"
   ]
  },
  {
   "cell_type": "code",
   "execution_count": 83,
   "id": "aafd395d-8687-4e51-a359-a66d0ff7de42",
   "metadata": {
    "tags": []
   },
   "outputs": [],
   "source": [
    "from collections import Counter"
   ]
  },
  {
   "cell_type": "code",
   "execution_count": null,
   "id": "dde8ff67-d500-4d2a-9928-e1fcdf6ac48d",
   "metadata": {},
   "outputs": [],
   "source": [
    "# Define a mapping for unique values\n",
    "value_mapping = {'suicide': 0, 'non-suicide': 1}\n",
    "\n",
    "# Use the map function to apply the mapping to the column\n",
    "df['class'] = df['class'].map(value_mapping)"
   ]
  },
  {
   "cell_type": "code",
   "execution_count": 98,
   "id": "533e9c12-6993-40bb-ab00-efedf2488e30",
   "metadata": {
    "tags": []
   },
   "outputs": [],
   "source": [
    "df_s = df[df['class']==0]"
   ]
  },
  {
   "cell_type": "code",
   "execution_count": 107,
   "id": "fa3b605a-041e-41fb-9cc5-e472fc59766d",
   "metadata": {
    "tags": []
   },
   "outputs": [],
   "source": [
    "text_s = df_s['text'].str.split().explode()"
   ]
  },
  {
   "cell_type": "code",
   "execution_count": 103,
   "id": "3ae0fea6-b460-40ba-acb2-a3fba62b4203",
   "metadata": {
    "tags": []
   },
   "outputs": [
    {
     "data": {
      "text/plain": [
       "array(['Dont', 'know7', 'Months', ..., 'Dave', 'uglyThe', 'correctlyAny'],\n",
       "      dtype=object)"
      ]
     },
     "execution_count": 103,
     "metadata": {},
     "output_type": "execute_result"
    }
   ],
   "source": [
    "text_s"
   ]
  },
  {
   "cell_type": "code",
   "execution_count": 104,
   "id": "da1f4e68-2a76-4398-843d-fd5b9e207547",
   "metadata": {
    "tags": []
   },
   "outputs": [],
   "source": [
    "df_ns = df[df['class']==1]"
   ]
  },
  {
   "cell_type": "code",
   "execution_count": 109,
   "id": "64ea8936-976d-4e8c-b8c5-82fa983cb555",
   "metadata": {
    "tags": []
   },
   "outputs": [],
   "source": [
    "text_ns = df_ns['text'].str.split().explode()"
   ]
  },
  {
   "cell_type": "code",
   "execution_count": 108,
   "id": "cfac82b0-9e59-49e6-a49d-309bcf10e1d9",
   "metadata": {
    "tags": []
   },
   "outputs": [
    {
     "name": "stdout",
     "output_type": "stream",
     "text": [
      "[('Im', 51235), ('dont', 37740), ('like', 26854), ('want', 26762), ('feel', 22904), ('know', 22552), ('life', 22440), ('Ive', 19159), ('cant', 18754), ('get', 17952), ('even', 15155), ('time', 14691)]\n"
     ]
    }
   ],
   "source": [
    "cnt_s = Counter(text_s).most_common(12)\n",
    "print(cnt_s)"
   ]
  },
  {
   "cell_type": "code",
   "execution_count": 110,
   "id": "2d8ca446-90a8-4de8-a619-754bf6a5b330",
   "metadata": {
    "tags": []
   },
   "outputs": [
    {
     "name": "stdout",
     "output_type": "stream",
     "text": [
      "[('Im', 10468), ('like', 10031), ('dont', 6971), ('filler', 6053), ('know', 5142), ('get', 5107), ('people', 4414), ('want', 4252), ('one', 3989), ('really', 3897), ('time', 3389), ('would', 3194)]\n"
     ]
    }
   ],
   "source": [
    "cnt_ns = Counter(text_ns).most_common(12)\n",
    "print(cnt_ns)"
   ]
  },
  {
   "cell_type": "code",
   "execution_count": 7,
   "id": "e2ae5f12-ae21-4575-bb72-4e91c925ccd4",
   "metadata": {
    "tags": []
   },
   "outputs": [],
   "source": [
    "text= df['text'].str.split()"
   ]
  },
  {
   "cell_type": "code",
   "execution_count": 49,
   "id": "81d347fa-91b3-4145-b92e-bfa6ca82f605",
   "metadata": {
    "tags": []
   },
   "outputs": [
    {
     "data": {
      "text/plain": [
       "pandas.core.series.Series"
      ]
     },
     "execution_count": 49,
     "metadata": {},
     "output_type": "execute_result"
    }
   ],
   "source": [
    "type(text)"
   ]
  },
  {
   "cell_type": "code",
   "execution_count": 8,
   "id": "4fdbe11f-5ffa-479d-84e7-d2cf917179f0",
   "metadata": {
    "tags": []
   },
   "outputs": [
    {
     "data": {
      "text/plain": [
       "101134"
      ]
     },
     "execution_count": 8,
     "metadata": {},
     "output_type": "execute_result"
    }
   ],
   "source": [
    "num_unique_words = len(text.explode().unique())\n",
    "num_unique_words"
   ]
  },
  {
   "cell_type": "code",
   "execution_count": 45,
   "id": "8de600c3-e2f8-491a-b266-ab242b4800dd",
   "metadata": {},
   "outputs": [
    {
     "name": "stdout",
     "output_type": "stream",
     "text": [
      "[('Im', 7406), ('dont', 5455), ('like', 4540), ('want', 3702), ('know', 3439), ('feel', 3157), ('get', 2858), ('life', 2852), ('cant', 2708), ('Ive', 2576), ('people', 2210), ('would', 2169)]\n"
     ]
    }
   ],
   "source": [
    "cnt = Counter(text).most_common(12)\n",
    "print(cnt)"
   ]
  },
  {
   "cell_type": "markdown",
   "id": "01319a96-0c4a-4ef8-8c0b-a17178b162b8",
   "metadata": {},
   "source": [
    "## Building Model"
   ]
  },
  {
   "cell_type": "code",
   "execution_count": 9,
   "id": "a39f4d0f-6169-4b08-8280-5f08f1422154",
   "metadata": {
    "tags": []
   },
   "outputs": [],
   "source": []
  },
  {
   "cell_type": "code",
   "execution_count": 10,
   "id": "5345f8aa-98e5-4bdd-b9cd-06e420d2f983",
   "metadata": {
    "tags": []
   },
   "outputs": [],
   "source": [
    "from sklearn.model_selection import train_test_split"
   ]
  },
  {
   "cell_type": "code",
   "execution_count": 11,
   "id": "d7d6bd58-fc64-43c8-88b5-5b74caf79056",
   "metadata": {
    "tags": []
   },
   "outputs": [],
   "source": [
    "X_train, X_test, y_train, y_test = train_test_split (df['text'],df['class'],test_size = 0.1, random_state=1)\n",
    "X_train, X_val, y_train, y_val = train_test_split (X_train, y_train, test_size = 0.2,random_state=1)"
   ]
  },
  {
   "cell_type": "code",
   "execution_count": 12,
   "id": "ec6df91b-f1f0-4c7c-a9a8-7a240052a860",
   "metadata": {
    "tags": []
   },
   "outputs": [
    {
     "name": "stdout",
     "output_type": "stream",
     "text": [
      "(36000,) (36000,) (9000,) (9000,) (5000,) (5000,)\n"
     ]
    }
   ],
   "source": [
    "print(X_train.shape,y_train.shape,X_val.shape,y_val.shape,X_test.shape,y_test.shape)"
   ]
  },
  {
   "cell_type": "code",
   "execution_count": 13,
   "id": "6a4e801c-8d1a-46e9-9e43-fe014dcd9377",
   "metadata": {
    "tags": []
   },
   "outputs": [],
   "source": [
    "from tensorflow.keras.preprocessing.text import Tokenizer"
   ]
  },
  {
   "cell_type": "code",
   "execution_count": 14,
   "id": "dcf4644e-633a-4494-b0be-72cd1072f50d",
   "metadata": {
    "tags": []
   },
   "outputs": [],
   "source": [
    "# vectorized a text corpus by turning each word to a sequence of integer\n",
    "tok = Tokenizer(num_words=num_unique_words)\n",
    "tok.fit_on_texts(X_train)"
   ]
  },
  {
   "cell_type": "code",
   "execution_count": 54,
   "id": "ef95aa0a-ac8f-4f86-83a1-4e493429b467",
   "metadata": {},
   "outputs": [],
   "source": [
    "# get the word_index, each word has a index\n",
    "word_index = tok.word_index"
   ]
  },
  {
   "cell_type": "code",
   "execution_count": 55,
   "id": "e8111ded-431f-4e03-8552-4b6a3f3ae386",
   "metadata": {
    "collapsed": true,
    "jupyter": {
     "outputs_hidden": true
    },
    "scrolled": true
   },
   "outputs": [
    {
     "data": {
      "text/plain": [
       "{'im': 1,\n",
       " 'dont': 2,\n",
       " 'like': 3,\n",
       " 'want': 4,\n",
       " 'know': 5,\n",
       " 'feel': 6,\n",
       " 'life': 7,\n",
       " 'ive': 8,\n",
       " 'get': 9,\n",
       " 'cant': 10,\n",
       " 'people': 11,\n",
       " 'even': 12,\n",
       " 'one': 13,\n",
       " 'time': 14,\n",
       " 'would': 15,\n",
       " 'really': 16,\n",
       " 'think': 17,\n",
       " 'going': 18,\n",
       " 'go': 19,\n",
       " 'never': 20,\n",
       " 'friends': 21,\n",
       " 'much': 22,\n",
       " 'day': 23,\n",
       " 'help': 24,\n",
       " 'years': 25,\n",
       " 'things': 26,\n",
       " 'got': 27,\n",
       " 'make': 28,\n",
       " 'good': 29,\n",
       " 'fucking': 30,\n",
       " 'anything': 31,\n",
       " 'school': 32,\n",
       " 'could': 33,\n",
       " 'someone': 34,\n",
       " 'way': 35,\n",
       " 'anymore': 36,\n",
       " 'back': 37,\n",
       " 'still': 38,\n",
       " 'see': 39,\n",
       " 'fuck': 40,\n",
       " 'something': 41,\n",
       " 'need': 42,\n",
       " 'everything': 43,\n",
       " 'didnt': 44,\n",
       " 'always': 45,\n",
       " 'better': 46,\n",
       " 'family': 47,\n",
       " 'nothing': 48,\n",
       " 'filler': 49,\n",
       " 'every': 50,\n",
       " 'die': 51,\n",
       " 'anyone': 52,\n",
       " 'love': 53,\n",
       " 'end': 54,\n",
       " 'talk': 55,\n",
       " 'live': 56,\n",
       " 'kill': 57,\n",
       " 'year': 58,\n",
       " 'ill': 59,\n",
       " 'right': 60,\n",
       " 'suicide': 61,\n",
       " 'ever': 62,\n",
       " 'say': 63,\n",
       " 'shit': 64,\n",
       " 'hate': 65,\n",
       " 'work': 66,\n",
       " 'last': 67,\n",
       " 'take': 68,\n",
       " 'everyone': 69,\n",
       " 'thing': 70,\n",
       " 'since': 71,\n",
       " 'person': 72,\n",
       " 'bad': 73,\n",
       " 'parents': 74,\n",
       " 'told': 75,\n",
       " 'friend': 76,\n",
       " 'thats': 77,\n",
       " 'also': 78,\n",
       " 'care': 79,\n",
       " 'said': 80,\n",
       " 'tell': 81,\n",
       " 'thought': 82,\n",
       " 'point': 83,\n",
       " 'made': 84,\n",
       " 'doesnt': 85,\n",
       " 'getting': 86,\n",
       " 'tried': 87,\n",
       " 'happy': 88,\n",
       " 'around': 89,\n",
       " 'try': 90,\n",
       " 'keep': 91,\n",
       " 'job': 92,\n",
       " 'long': 93,\n",
       " 'mom': 94,\n",
       " 'feeling': 95,\n",
       " 'first': 96,\n",
       " 'well': 97,\n",
       " 'away': 98,\n",
       " 'find': 99,\n",
       " 'trying': 100,\n",
       " 'lot': 101,\n",
       " 'wanted': 102,\n",
       " 'enough': 103,\n",
       " 'pain': 104,\n",
       " 'started': 105,\n",
       " 'else': 106,\n",
       " 'tired': 107,\n",
       " 'depression': 108,\n",
       " 'done': 109,\n",
       " 'best': 110,\n",
       " 'give': 111,\n",
       " 'world': 112,\n",
       " 'hard': 113,\n",
       " 'alone': 114,\n",
       " 'maybe': 115,\n",
       " 'stop': 116,\n",
       " 'wont': 117,\n",
       " 'suicidal': 118,\n",
       " 'months': 119,\n",
       " 'many': 120,\n",
       " 'ago': 121,\n",
       " 'days': 122,\n",
       " 'please': 123,\n",
       " 'living': 124,\n",
       " 'reason': 125,\n",
       " 'thoughts': 126,\n",
       " 'actually': 127,\n",
       " 'wish': 128,\n",
       " 'felt': 129,\n",
       " 'sure': 130,\n",
       " 'thinking': 131,\n",
       " 'left': 132,\n",
       " 'worse': 133,\n",
       " '2': 134,\n",
       " 'home': 135,\n",
       " 'girl': 136,\n",
       " 'today': 137,\n",
       " 'went': 138,\n",
       " 'without': 139,\n",
       " 'id': 140,\n",
       " 'theres': 141,\n",
       " 'post': 142,\n",
       " 'old': 143,\n",
       " 'though': 144,\n",
       " 'come': 145,\n",
       " 'two': 146,\n",
       " 'hope': 147,\n",
       " 'times': 148,\n",
       " 'little': 149,\n",
       " 'makes': 150,\n",
       " 'probably': 151,\n",
       " 'another': 152,\n",
       " 'new': 153,\n",
       " 'let': 154,\n",
       " 'lost': 155,\n",
       " 'past': 156,\n",
       " 'night': 157,\n",
       " 'put': 158,\n",
       " 'sorry': 159,\n",
       " 'able': 160,\n",
       " 'gonna': 161,\n",
       " 'depressed': 162,\n",
       " 'look': 163,\n",
       " 'pretty': 164,\n",
       " 'isnt': 165,\n",
       " 'dad': 166,\n",
       " 'us': 167,\n",
       " 'already': 168,\n",
       " 'hurt': 169,\n",
       " 'sleep': 170,\n",
       " 'money': 171,\n",
       " 'might': 172,\n",
       " 'mind': 173,\n",
       " 'guys': 174,\n",
       " 'almost': 175,\n",
       " 'scared': 176,\n",
       " 'havent': 177,\n",
       " 'wanna': 178,\n",
       " 'leave': 179,\n",
       " 'week': 180,\n",
       " 'guess': 181,\n",
       " '3': 182,\n",
       " 'talking': 183,\n",
       " 'wasnt': 184,\n",
       " 'wrong': 185,\n",
       " 'shes': 186,\n",
       " 'sad': 187,\n",
       " 'next': 188,\n",
       " 'youre': 189,\n",
       " 'place': 190,\n",
       " 'feels': 191,\n",
       " 'death': 192,\n",
       " 'head': 193,\n",
       " 'college': 194,\n",
       " 'used': 195,\n",
       " 'finally': 196,\n",
       " 'start': 197,\n",
       " 'house': 198,\n",
       " 'anxiety': 199,\n",
       " 'found': 200,\n",
       " 'making': 201,\n",
       " 'couldnt': 202,\n",
       " 'relationship': 203,\n",
       " 'high': 204,\n",
       " 'hes': 205,\n",
       " 'gone': 206,\n",
       " 'mental': 207,\n",
       " 'close': 208,\n",
       " 'real': 209,\n",
       " 'stuff': 210,\n",
       " 'matter': 211,\n",
       " 'self': 212,\n",
       " 'understand': 213,\n",
       " 'sometimes': 214,\n",
       " 'hours': 215,\n",
       " 'least': 216,\n",
       " 'yet': 217,\n",
       " 'seems': 218,\n",
       " 'ask': 219,\n",
       " 'whole': 220,\n",
       " 'mother': 221,\n",
       " 'call': 222,\n",
       " 'wouldnt': 223,\n",
       " 'looking': 224,\n",
       " 'stupid': 225,\n",
       " 'saying': 226,\n",
       " 'kind': 227,\n",
       " 'guy': 228,\n",
       " 'whats': 229,\n",
       " 'part': 230,\n",
       " 'happened': 231,\n",
       " 'remember': 232,\n",
       " 'others': 233,\n",
       " 'took': 234,\n",
       " 'either': 235,\n",
       " 'great': 236,\n",
       " 'dead': 237,\n",
       " 'alive': 238,\n",
       " 'problems': 239,\n",
       " 'weeks': 240,\n",
       " 'mean': 241,\n",
       " 'girlfriend': 242,\n",
       " 'stay': 243,\n",
       " 'believe': 244,\n",
       " 'hell': 245,\n",
       " 'came': 246,\n",
       " 'killing': 247,\n",
       " 'literally': 248,\n",
       " 'bit': 249,\n",
       " 'nobody': 250,\n",
       " 'change': 251,\n",
       " 'sick': 252,\n",
       " 'honestly': 253,\n",
       " 'future': 254,\n",
       " 'different': 255,\n",
       " 'asked': 256,\n",
       " 'wants': 257,\n",
       " 'theyre': 258,\n",
       " 'soon': 259,\n",
       " 'taking': 260,\n",
       " 'month': 261,\n",
       " 'read': 262,\n",
       " 'room': 263,\n",
       " 'together': 264,\n",
       " 'social': 265,\n",
       " 'may': 266,\n",
       " 'cause': 267,\n",
       " 'reddit': 268,\n",
       " 'completely': 269,\n",
       " 'bed': 270,\n",
       " 'body': 271,\n",
       " 'gets': 272,\n",
       " 'idea': 273,\n",
       " 'class': 274,\n",
       " 'called': 275,\n",
       " '5': 276,\n",
       " 'recently': 277,\n",
       " 'working': 278,\n",
       " 'deal': 279,\n",
       " 'nice': 280,\n",
       " 'worth': 281,\n",
       " 'idk': 282,\n",
       " 'fucked': 283,\n",
       " 'telling': 284,\n",
       " 'god': 285,\n",
       " 'fact': 286,\n",
       " 'loved': 287,\n",
       " 'normal': 288,\n",
       " 'use': 289,\n",
       " 'man': 290,\n",
       " 'longer': 291,\n",
       " 'later': 292,\n",
       " 'brother': 293,\n",
       " 'car': 294,\n",
       " '4': 295,\n",
       " 'seem': 296,\n",
       " 'far': 297,\n",
       " 'knew': 298,\n",
       " 'move': 299,\n",
       " 'constantly': 300,\n",
       " 'decided': 301,\n",
       " 'big': 302,\n",
       " 'says': 303,\n",
       " 'feelings': 304,\n",
       " 'happen': 305,\n",
       " 'okay': 306,\n",
       " 'anyway': 307,\n",
       " 'cheese': 308,\n",
       " 'become': 309,\n",
       " 'ㅤ': 310,\n",
       " 'couple': 311,\n",
       " 'boyfriend': 312,\n",
       " 'face': 313,\n",
       " 'single': 314,\n",
       " 'afraid': 315,\n",
       " 'girls': 316,\n",
       " 'problem': 317,\n",
       " 'crying': 318,\n",
       " 'everyday': 319,\n",
       " 'health': 320,\n",
       " 'advice': 321,\n",
       " 'play': 322,\n",
       " '1': 323,\n",
       " 'basically': 324,\n",
       " 'fun': 325,\n",
       " 'cry': 326,\n",
       " 'wake': 327,\n",
       " 'less': 328,\n",
       " 'hospital': 329,\n",
       " 'sister': 330,\n",
       " 'therapy': 331,\n",
       " 'kids': 332,\n",
       " 'ampx200b': 333,\n",
       " 'deserve': 334,\n",
       " 'online': 335,\n",
       " 'cut': 336,\n",
       " 'due': 337,\n",
       " 'father': 338,\n",
       " 'ok': 339,\n",
       " 'broke': 340,\n",
       " 'thank': 341,\n",
       " 'story': 342,\n",
       " 'phone': 343,\n",
       " 'thanks': 344,\n",
       " 'whatever': 345,\n",
       " 'kinda': 346,\n",
       " 'support': 347,\n",
       " 'coming': 348,\n",
       " 'situation': 349,\n",
       " 'worst': 350,\n",
       " 'issues': 351,\n",
       " 'etc': 352,\n",
       " 'weird': 353,\n",
       " 'stopped': 354,\n",
       " '10': 355,\n",
       " 'plan': 356,\n",
       " 'break': 357,\n",
       " 'lonely': 358,\n",
       " 'moment': 359,\n",
       " 'heart': 360,\n",
       " 'yeah': 361,\n",
       " 'age': 362,\n",
       " 'instead': 363,\n",
       " 'half': 364,\n",
       " 'ended': 365,\n",
       " 'died': 366,\n",
       " 'hear': 367,\n",
       " '6': 368,\n",
       " 'fine': 369,\n",
       " 'tomorrow': 370,\n",
       " 'supposed': 371,\n",
       " 'gave': 372,\n",
       " 'saw': 373,\n",
       " 'hit': 374,\n",
       " 'needed': 375,\n",
       " 'turn': 376,\n",
       " 'cannot': 377,\n",
       " 'free': 378,\n",
       " 'second': 379,\n",
       " 'pay': 380,\n",
       " 'pills': 381,\n",
       " 'inside': 382,\n",
       " 'rest': 383,\n",
       " 'failed': 384,\n",
       " 'kid': 385,\n",
       " 'lives': 386,\n",
       " 'goes': 387,\n",
       " 'brain': 388,\n",
       " 'met': 389,\n",
       " 'talked': 390,\n",
       " 'seeing': 391,\n",
       " 'knows': 392,\n",
       " 'therapist': 393,\n",
       " 'entire': 394,\n",
       " 'u': 395,\n",
       " 'morning': 396,\n",
       " 'barely': 397,\n",
       " 'tonight': 398,\n",
       " 'reading': 399,\n",
       " 'hurts': 400,\n",
       " 'miss': 401,\n",
       " 'ready': 402,\n",
       " 'eat': 403,\n",
       " 'horrible': 404,\n",
       " 'oh': 405,\n",
       " 'fear': 406,\n",
       " 'gotten': 407,\n",
       " 'truly': 408,\n",
       " 'writing': 409,\n",
       " 'yes': 410,\n",
       " 'comes': 411,\n",
       " 'chance': 412,\n",
       " 'games': 413,\n",
       " 'shitty': 414,\n",
       " 'seen': 415,\n",
       " 'hang': 416,\n",
       " 'rather': 417,\n",
       " 'stuck': 418,\n",
       " 'name': 419,\n",
       " 'posting': 420,\n",
       " 'game': 421,\n",
       " 'eventually': 422,\n",
       " 'lose': 423,\n",
       " 'birthday': 424,\n",
       " 'ones': 425,\n",
       " 'full': 426,\n",
       " 'ending': 427,\n",
       " 'moved': 428,\n",
       " 'cares': 429,\n",
       " 'text': 430,\n",
       " 'sense': 431,\n",
       " 'spent': 432,\n",
       " 'attempt': 433,\n",
       " 'human': 434,\n",
       " 'often': 435,\n",
       " 'write': 436,\n",
       " 'kept': 437,\n",
       " 'wait': 438,\n",
       " 'three': 439,\n",
       " 'small': 440,\n",
       " 'starting': 441,\n",
       " 'seriously': 442,\n",
       " 'knowing': 443,\n",
       " 'wanting': 444,\n",
       " 'suffering': 445,\n",
       " 'child': 446,\n",
       " 'ni': 447,\n",
       " 'enjoy': 448,\n",
       " 'arent': 449,\n",
       " 'sex': 450,\n",
       " 'watch': 451,\n",
       " 'music': 452,\n",
       " 'angry': 453,\n",
       " 'reasons': 454,\n",
       " 'cum': 455,\n",
       " 'ur': 456,\n",
       " 'experience': 457,\n",
       " 'show': 458,\n",
       " 'video': 459,\n",
       " 'spend': 460,\n",
       " 'asking': 461,\n",
       " 'means': 462,\n",
       " 'however': 463,\n",
       " 'failure': 464,\n",
       " 'bored': 465,\n",
       " '20': 466,\n",
       " 'dying': 467,\n",
       " 'state': 468,\n",
       " 'terrible': 469,\n",
       " 'worthless': 470,\n",
       " 'ex': 471,\n",
       " 'short': 472,\n",
       " 'side': 473,\n",
       " 'hold': 474,\n",
       " 'selfish': 475,\n",
       " 'fight': 476,\n",
       " 'minutes': 477,\n",
       " 'course': 478,\n",
       " 'group': 479,\n",
       " '15': 480,\n",
       " 'listen': 481,\n",
       " 'outside': 482,\n",
       " 'words': 483,\n",
       " 'attention': 484,\n",
       " 'taken': 485,\n",
       " 'absolutely': 486,\n",
       " 'handle': 487,\n",
       " 'burden': 488,\n",
       " 'hey': 489,\n",
       " 'extremely': 490,\n",
       " 'grade': 491,\n",
       " 'bring': 492,\n",
       " 'classes': 493,\n",
       " 'turned': 494,\n",
       " 'open': 495,\n",
       " 'broken': 496,\n",
       " 'quite': 497,\n",
       " 'fault': 498,\n",
       " 'question': 499,\n",
       " 'country': 500,\n",
       " 'control': 501,\n",
       " 'currently': 502,\n",
       " 'anyways': 503,\n",
       " 'food': 504,\n",
       " 'young': 505,\n",
       " '18': 506,\n",
       " 'happiness': 507,\n",
       " 'possible': 508,\n",
       " 'given': 509,\n",
       " 'ass': 510,\n",
       " 'shouldnt': 511,\n",
       " 'usually': 512,\n",
       " 'giving': 513,\n",
       " 'happens': 514,\n",
       " 'continue': 515,\n",
       " 'waiting': 516,\n",
       " 'killed': 517,\n",
       " 'run': 518,\n",
       " 'behind': 519,\n",
       " 'true': 520,\n",
       " 'drugs': 521,\n",
       " 'easy': 522,\n",
       " 'hour': 523,\n",
       " 'trust': 524,\n",
       " 'crush': 525,\n",
       " 'commit': 526,\n",
       " 'helped': 527,\n",
       " 'top': 528,\n",
       " 'realize': 529,\n",
       " 'fall': 530,\n",
       " 'losing': 531,\n",
       " 'born': 532,\n",
       " 'ugly': 533,\n",
       " 'grades': 534,\n",
       " 'damn': 535,\n",
       " 'late': 536,\n",
       " 'forward': 537,\n",
       " 'playing': 538,\n",
       " 'sort': 539,\n",
       " 'eyes': 540,\n",
       " 'dream': 541,\n",
       " 'cecil': 542,\n",
       " 'mine': 543,\n",
       " 'miserable': 544,\n",
       " 'forever': 545,\n",
       " 'realized': 546,\n",
       " 'strong': 547,\n",
       " 'worked': 548,\n",
       " 'note': 549,\n",
       " 'especially': 550,\n",
       " 'date': 551,\n",
       " 'useless': 552,\n",
       " 'sit': 553,\n",
       " 'meet': 554,\n",
       " 'exist': 555,\n",
       " 'meds': 556,\n",
       " 'yesterday': 557,\n",
       " 'empty': 558,\n",
       " 'leaving': 559,\n",
       " 'constant': 560,\n",
       " 'medication': 561,\n",
       " 'gun': 562,\n",
       " 'dog': 563,\n",
       " 'ways': 564,\n",
       " '16': 565,\n",
       " 'cool': 566,\n",
       " 'whenever': 567,\n",
       " 'hand': 568,\n",
       " 'teacher': 569,\n",
       " 'stress': 570,\n",
       " 'funny': 571,\n",
       " 'lately': 572,\n",
       " 'stand': 573,\n",
       " 'heard': 574,\n",
       " '8': 575,\n",
       " 'piece': 576,\n",
       " 'crazy': 577,\n",
       " 'account': 578,\n",
       " 'fix': 579,\n",
       " 'became': 580,\n",
       " 'mad': 581,\n",
       " 'drive': 582,\n",
       " 'share': 583,\n",
       " 'lol': 584,\n",
       " 'except': 585,\n",
       " 'none': 586,\n",
       " 'deep': 587,\n",
       " 'keeps': 588,\n",
       " 'worry': 589,\n",
       " 'eating': 590,\n",
       " 'sub': 591,\n",
       " 'yall': 592,\n",
       " 'amazing': 593,\n",
       " 'struggling': 594,\n",
       " 'wife': 595,\n",
       " 'walk': 596,\n",
       " 'serious': 597,\n",
       " 'act': 598,\n",
       " 'watching': 599,\n",
       " 'sucks': 600,\n",
       " 'imagine': 601,\n",
       " 'straight': 602,\n",
       " 'fail': 603,\n",
       " 'super': 604,\n",
       " 'answer': 605,\n",
       " 'option': 606,\n",
       " 'mentally': 607,\n",
       " '7': 608,\n",
       " 'older': 609,\n",
       " 'sitting': 610,\n",
       " 'afford': 611,\n",
       " 'suffer': 612,\n",
       " 'peace': 613,\n",
       " 'somehow': 614,\n",
       " 'front': 615,\n",
       " 'joke': 616,\n",
       " 'waste': 617,\n",
       " 'along': 618,\n",
       " '12': 619,\n",
       " 'doctor': 620,\n",
       " 'middle': 621,\n",
       " 'type': 622,\n",
       " 'buy': 623,\n",
       " 'worried': 624,\n",
       " 'lets': 625,\n",
       " 'needs': 626,\n",
       " 'important': 627,\n",
       " 'explain': 628,\n",
       " 'goodbye': 629,\n",
       " 'thinks': 630,\n",
       " 'weight': 631,\n",
       " 'drunk': 632,\n",
       " 'hurting': 633,\n",
       " 'physically': 634,\n",
       " 'emotional': 635,\n",
       " 'motivation': 636,\n",
       " 'amount': 637,\n",
       " 'sent': 638,\n",
       " 'set': 639,\n",
       " 'dark': 640,\n",
       " 'posts': 641,\n",
       " 'water': 642,\n",
       " 'low': 643,\n",
       " 'despite': 644,\n",
       " 'abusive': 645,\n",
       " 'amp': 646,\n",
       " 'changed': 647,\n",
       " 'looks': 648,\n",
       " 'simply': 649,\n",
       " 'using': 650,\n",
       " 'upset': 651,\n",
       " 'sleeping': 652,\n",
       " 'gay': 653,\n",
       " 'university': 654,\n",
       " 'internet': 655,\n",
       " 'pathetic': 656,\n",
       " 'looked': 657,\n",
       " 'awful': 658,\n",
       " 'send': 659,\n",
       " 'posted': 660,\n",
       " 'abuse': 661,\n",
       " 'somewhere': 662,\n",
       " 'relationships': 663,\n",
       " 'drink': 664,\n",
       " 'women': 665,\n",
       " 'liked': 666,\n",
       " 'energy': 667,\n",
       " 'apart': 668,\n",
       " 'woman': 669,\n",
       " 'itll': 670,\n",
       " 'case': 671,\n",
       " 'bullshit': 672,\n",
       " 'keeping': 673,\n",
       " 'perfect': 674,\n",
       " 'lived': 675,\n",
       " 'several': 676,\n",
       " 'mess': 677,\n",
       " 'beautiful': 678,\n",
       " 'anybody': 679,\n",
       " 'emotions': 680,\n",
       " 'existence': 681,\n",
       " 'must': 682,\n",
       " 'speak': 683,\n",
       " 'sounds': 684,\n",
       " '14': 685,\n",
       " 'chat': 686,\n",
       " 'lie': 687,\n",
       " 'mostly': 688,\n",
       " 'hanging': 689,\n",
       " 'forget': 690,\n",
       " 'attempted': 691,\n",
       " 'huge': 692,\n",
       " 'dumb': 693,\n",
       " '17': 694,\n",
       " 'towards': 695,\n",
       " 'reach': 696,\n",
       " 'check': 697,\n",
       " 'physical': 698,\n",
       " 'meant': 699,\n",
       " 'disorder': 700,\n",
       " 'gtpoplt': 701,\n",
       " '30': 702,\n",
       " 'planning': 703,\n",
       " 'dating': 704,\n",
       " 'blame': 705,\n",
       " 'drinking': 706,\n",
       " 'random': 707,\n",
       " 'reality': 708,\n",
       " 'jobs': 709,\n",
       " 'contact': 710,\n",
       " 'diagnosed': 711,\n",
       " 'pass': 712,\n",
       " 'panic': 713,\n",
       " 'boy': 714,\n",
       " 'society': 715,\n",
       " 'dreams': 716,\n",
       " 'fast': 717,\n",
       " 'slowly': 718,\n",
       " 'fighting': 719,\n",
       " 'positive': 720,\n",
       " 'message': 721,\n",
       " 'harder': 722,\n",
       " 'loves': 723,\n",
       " 'student': 724,\n",
       " 'escape': 725,\n",
       " 'painful': 726,\n",
       " 'cutting': 727,\n",
       " 'happening': 728,\n",
       " 'sound': 729,\n",
       " 'save': 730,\n",
       " 'takes': 731,\n",
       " 'subreddit': 732,\n",
       " 'early': 733,\n",
       " 'complete': 734,\n",
       " 'conversation': 735,\n",
       " 'male': 736,\n",
       " 'struggle': 737,\n",
       " 'obviously': 738,\n",
       " 'daily': 739,\n",
       " 'honest': 740,\n",
       " 'helping': 741,\n",
       " 'works': 742,\n",
       " 'multiple': 743,\n",
       " 'comment': 744,\n",
       " 'hair': 745,\n",
       " 'number': 746,\n",
       " '13': 747,\n",
       " 'emotionally': 748,\n",
       " 'quit': 749,\n",
       " 'harm': 750,\n",
       " 'tells': 751,\n",
       " 'known': 752,\n",
       " 'jump': 753,\n",
       " 'gf': 754,\n",
       " 'failing': 755,\n",
       " 'moving': 756,\n",
       " 'step': 757,\n",
       " 'choice': 758,\n",
       " 'purpose': 759,\n",
       " 'difficult': 760,\n",
       " '100': 761,\n",
       " 'word': 762,\n",
       " 'hasnt': 763,\n",
       " 'exactly': 764,\n",
       " 'hoping': 765,\n",
       " 'test': 766,\n",
       " 'woke': 767,\n",
       " 'easier': 768,\n",
       " 'hates': 769,\n",
       " 'gives': 770,\n",
       " 'english': 771,\n",
       " 'likely': 772,\n",
       " 'severe': 773,\n",
       " 'ruined': 774,\n",
       " 'putting': 775,\n",
       " 'song': 776,\n",
       " 'weak': 777,\n",
       " 'fell': 778,\n",
       " 'study': 779,\n",
       " 'genuinely': 780,\n",
       " 'black': 781,\n",
       " 'whether': 782,\n",
       " 'younger': 783,\n",
       " 'calling': 784,\n",
       " 'learn': 785,\n",
       " 'chest': 786,\n",
       " 'listening': 787,\n",
       " 'childhood': 788,\n",
       " 'wonder': 789,\n",
       " 'degree': 790,\n",
       " 'apparently': 791,\n",
       " 'badly': 792,\n",
       " 'finding': 793,\n",
       " 'running': 794,\n",
       " 'summer': 795,\n",
       " 'regret': 796,\n",
       " 'fat': 797,\n",
       " 'bye': 798,\n",
       " 'lack': 799,\n",
       " 'bother': 800,\n",
       " 'interested': 801,\n",
       " 'passed': 802,\n",
       " 'considering': 803,\n",
       " 'comments': 804,\n",
       " 'asleep': 805,\n",
       " 'trapped': 806,\n",
       " 'safe': 807,\n",
       " 'cared': 808,\n",
       " 'alcohol': 809,\n",
       " 'bitch': 810,\n",
       " 'forced': 811,\n",
       " 'debt': 812,\n",
       " 'decision': 813,\n",
       " 'trouble': 814,\n",
       " 'fake': 815,\n",
       " 'questions': 816,\n",
       " 'police': 817,\n",
       " 'door': 818,\n",
       " 'hopeless': 819,\n",
       " 'personality': 820,\n",
       " 'rn': 821,\n",
       " 'hands': 822,\n",
       " 'likes': 823,\n",
       " 'cold': 824,\n",
       " 'anxious': 825,\n",
       " 'figure': 826,\n",
       " 'voice': 827,\n",
       " 'although': 828,\n",
       " 'near': 829,\n",
       " 'plans': 830,\n",
       " 'anywhere': 831,\n",
       " 'theyll': 832,\n",
       " 'somebody': 833,\n",
       " 'allowed': 834,\n",
       " 'light': 835,\n",
       " 'children': 836,\n",
       " 'space': 837,\n",
       " 'career': 838,\n",
       " 'hated': 839,\n",
       " 'accept': 840,\n",
       " 'jake': 841,\n",
       " 'major': 842,\n",
       " 'guilt': 843,\n",
       " 'effort': 844,\n",
       " 'husband': 845,\n",
       " 'guilty': 846,\n",
       " 'dm': 847,\n",
       " 'earth': 848,\n",
       " 'wondering': 849,\n",
       " 'men': 850,\n",
       " 'final': 851,\n",
       " 'whos': 852,\n",
       " 'discord': 853,\n",
       " 'bc': 854,\n",
       " 'history': 855,\n",
       " 'till': 856,\n",
       " 'nearly': 857,\n",
       " 'dealing': 858,\n",
       " 'seemed': 859,\n",
       " 'poor': 860,\n",
       " 'lazy': 861,\n",
       " 'son': 862,\n",
       " 'certain': 863,\n",
       " '9': 864,\n",
       " 'mum': 865,\n",
       " 'bunch': 866,\n",
       " 'clean': 867,\n",
       " 'wrote': 868,\n",
       " 'within': 869,\n",
       " 'annoying': 870,\n",
       " 'sadness': 871,\n",
       " 'mistake': 872,\n",
       " 'numb': 873,\n",
       " 'baby': 874,\n",
       " 'falling': 875,\n",
       " 'helps': 876,\n",
       " 'christmas': 877,\n",
       " 'vent': 878,\n",
       " 'paulfuck': 879,\n",
       " 'join': 880,\n",
       " 'apartment': 881,\n",
       " 'definitely': 882,\n",
       " 'teachers': 883,\n",
       " 'twice': 884,\n",
       " 'rant': 885,\n",
       " 'youll': 886,\n",
       " 'title': 887,\n",
       " 'becoming': 888,\n",
       " '19': 889,\n",
       " 'holding': 890,\n",
       " 'married': 891,\n",
       " 'bullied': 892,\n",
       " 'abused': 893,\n",
       " 'cried': 894,\n",
       " 'laugh': 895,\n",
       " 'boys': 896,\n",
       " 'hopefully': 897,\n",
       " 'smile': 898,\n",
       " 'finish': 899,\n",
       " 'illness': 900,\n",
       " 'blood': 901,\n",
       " 'expect': 902,\n",
       " 'smart': 903,\n",
       " 'shut': 904,\n",
       " 'walking': 905,\n",
       " 'cope': 906,\n",
       " 'push': 907,\n",
       " 'youve': 908,\n",
       " 'semester': 909,\n",
       " 'order': 910,\n",
       " 'unless': 911,\n",
       " 'everybody': 912,\n",
       " 'personal': 913,\n",
       " 'community': 914,\n",
       " 'general': 915,\n",
       " 'partner': 916,\n",
       " 'anger': 917,\n",
       " 'throw': 918,\n",
       " 'courage': 919,\n",
       " 'driving': 920,\n",
       " 'cute': 921,\n",
       " 'breaking': 922,\n",
       " 'beat': 923,\n",
       " 'edit': 924,\n",
       " 'negative': 925,\n",
       " 'covid': 926,\n",
       " 'luck': 927,\n",
       " 'lying': 928,\n",
       " 'cuz': 929,\n",
       " 'truth': 930,\n",
       " 'nowhere': 931,\n",
       " 'doctors': 932,\n",
       " 'favorite': 933,\n",
       " 'learned': 934,\n",
       " 'cat': 935,\n",
       " 'tho': 936,\n",
       " 'managed': 937,\n",
       " 'caused': 938,\n",
       " 'town': 939,\n",
       " 'impossible': 940,\n",
       " 'weve': 941,\n",
       " 'attack': 942,\n",
       " 'system': 943,\n",
       " 'pointless': 944,\n",
       " 'suck': 945,\n",
       " 'city': 946,\n",
       " 'drop': 947,\n",
       " 'computer': 948,\n",
       " 'kicked': 949,\n",
       " 'consider': 950,\n",
       " 'fit': 951,\n",
       " 'proud': 952,\n",
       " 'hot': 953,\n",
       " 'closer': 954,\n",
       " 'cancer': 955,\n",
       " 'growing': 956,\n",
       " 'notice': 957,\n",
       " 'interest': 958,\n",
       " 'weekend': 959,\n",
       " 'brought': 960,\n",
       " 'began': 961,\n",
       " 'hi': 962,\n",
       " 'awkward': 963,\n",
       " 'meaning': 964,\n",
       " '21': 965,\n",
       " 'focus': 966,\n",
       " 'loving': 967,\n",
       " 'loser': 968,\n",
       " 'confused': 969,\n",
       " 'four': 970,\n",
       " 'force': 971,\n",
       " 'form': 972,\n",
       " 'sexual': 973,\n",
       " 'insurance': 974,\n",
       " 'homeless': 975,\n",
       " 'healthy': 976,\n",
       " 'adult': 977,\n",
       " 'appreciate': 978,\n",
       " 'skills': 979,\n",
       " 'heres': 980,\n",
       " 'unable': 981,\n",
       " 'survive': 982,\n",
       " 'suddenly': 983,\n",
       " 'decide': 984,\n",
       " 'grow': 985,\n",
       " 'line': 986,\n",
       " 'theyve': 987,\n",
       " 'clear': 988,\n",
       " 'considered': 989,\n",
       " 'pull': 990,\n",
       " 'current': 991,\n",
       " 'knife': 992,\n",
       " 'tears': 993,\n",
       " 'actual': 994,\n",
       " 'exhausted': 995,\n",
       " 'staying': 996,\n",
       " 'dropped': 997,\n",
       " 'pick': 998,\n",
       " 'werent': 999,\n",
       " 'treated': 1000,\n",
       " ...}"
      ]
     },
     "execution_count": 55,
     "metadata": {},
     "output_type": "execute_result"
    }
   ],
   "source": [
    "word_index"
   ]
  },
  {
   "cell_type": "code",
   "execution_count": 71,
   "id": "1d4da4a7-52a3-4791-8fe8-7784dd4235bd",
   "metadata": {
    "tags": []
   },
   "outputs": [],
   "source": [
    "# get the sequence for taining and validation dataset\n",
    "X_train_seq = tok.texts_to_sequences(X_train)\n",
    "X_val_seq = tok.texts_to_sequences(X_val)\n",
    "X_test_seq = tok.texts_to_sequences(X_test)"
   ]
  },
  {
   "cell_type": "code",
   "execution_count": 25,
   "id": "528a6c72-3d5d-4253-ba7c-ed54a80103bc",
   "metadata": {
    "tags": []
   },
   "outputs": [
    {
     "name": "stdout",
     "output_type": "stream",
     "text": [
      "[[211, 840, 166, 17, 2, 211, 13817, 112, 893, 211, 13818, 3, 39, 107]]\n",
      "322075    call teachers US think dont call forenames maybe title call sirmiss like something else\n",
      "Name: text, dtype: object\n"
     ]
    }
   ],
   "source": [
    "print(X_train_seq[0:1]) # index for each words\n",
    "print(X_train.iloc[0:1]) # words"
   ]
  },
  {
   "cell_type": "code",
   "execution_count": 72,
   "id": "116eb1ec-74e1-4d18-99b3-45b116fea6cd",
   "metadata": {
    "tags": []
   },
   "outputs": [
    {
     "data": {
      "text/plain": [
       "((36000, 20), (9000, 20), (5000, 20))"
      ]
     },
     "execution_count": 72,
     "metadata": {},
     "output_type": "execute_result"
    }
   ],
   "source": [
    "# pad the sequence to have the same length\n",
    "from tensorflow.keras.preprocessing.sequence import pad_sequences\n",
    "\n",
    "max_len = 20\n",
    "\n",
    "X_train_padded = pad_sequences(X_train_seq,maxlen=max_len, padding='post',truncating='post')\n",
    "X_val_padded = pad_sequences(X_val_seq,maxlen=max_len, padding='post',truncating='post')\n",
    "X_test_padded = pad_sequences(X_test_seq,maxlen=max_len, padding='post',truncating='post')\n",
    "\n",
    "X_train_padded.shape, X_val_padded.shape, X_test_padded.shape"
   ]
  },
  {
   "cell_type": "code",
   "execution_count": 27,
   "id": "3ebebd6b-95cc-4ec2-9632-fdfd8871cd16",
   "metadata": {
    "tags": []
   },
   "outputs": [
    {
     "name": "stdout",
     "output_type": "stream",
     "text": [
      "[  211   840   166    17     2   211 13817   112   893   211 13818     3\n",
      "    39   107     0     0     0     0     0     0] [211, 840, 166, 17, 2, 211, 13817, 112, 893, 211, 13818, 3, 39, 107] call teachers US think dont call forenames maybe title call sirmiss like something else\n"
     ]
    }
   ],
   "source": [
    "print (X_train_padded[0],X_train_seq[0],X_train.iloc[0])"
   ]
  },
  {
   "cell_type": "code",
   "execution_count": 67,
   "id": "8c17f243-08ce-43b9-be31-947a76487bfc",
   "metadata": {
    "tags": []
   },
   "outputs": [
    {
     "name": "stdout",
     "output_type": "stream",
     "text": [
      "Model: \"sequential_11\"\n",
      "_________________________________________________________________\n",
      " Layer (type)                Output Shape              Param #   \n",
      "=================================================================\n",
      " embedding_11 (Embedding)    (None, 20, 16)            1618144   \n",
      "                                                                 \n",
      " lstm_11 (LSTM)              (None, 16)                2112      \n",
      "                                                                 \n",
      " batch_normalization_8 (Batc  (None, 16)               64        \n",
      " hNormalization)                                                 \n",
      "                                                                 \n",
      " dropout_8 (Dropout)         (None, 16)                0         \n",
      "                                                                 \n",
      " dense_10 (Dense)            (None, 1)                 17        \n",
      "                                                                 \n",
      "=================================================================\n",
      "Total params: 1,620,337\n",
      "Trainable params: 1,620,305\n",
      "Non-trainable params: 32\n",
      "_________________________________________________________________\n"
     ]
    }
   ],
   "source": [
    "# Create Model\n",
    "\n",
    "from tensorflow.keras import layers\n",
    "from keras.regularizers import l2\n",
    "from keras.layers import BatchNormalization,Dropout\n",
    "\n",
    "\n",
    "model = keras.models.Sequential()\n",
    "model.add(layers.Embedding(num_unique_words,16,input_length=max_len))# embedding dimenstion 64-32-16\n",
    "model.add(layers.LSTM(16,dropout=0.8,kernel_regularizer=l2(0.04)))# 64-32-16; dropout 0.5-0,8;l2(0.01-0.03-0.04) added to fix overfitting\n",
    "model.add(BatchNormalization())  # Add BatchNormalization to fix overfitting\n",
    "model.add(Dropout(0.8))  # Add Dropout after the BatchNormalization to fic overfitting\n",
    "model.add(layers.Dense(1,activation='sigmoid'))\n",
    "\n",
    "model.summary()"
   ]
  },
  {
   "cell_type": "code",
   "execution_count": 68,
   "id": "e9a02441-e019-46bc-9902-163f3a658790",
   "metadata": {
    "tags": []
   },
   "outputs": [],
   "source": [
    "loss = keras.losses.BinaryCrossentropy(from_logits =False)\n",
    "optim = keras.optimizers.Adam(learning_rate=0.001)#lr0.01-0.001\n",
    "metrics =['accuracy']\n",
    "\n",
    "model.compile(loss=loss, optimizer=optim,metrics=metrics)"
   ]
  },
  {
   "cell_type": "code",
   "execution_count": 69,
   "id": "9fc74c79-2e23-4361-a772-e6ac951da3ce",
   "metadata": {
    "tags": []
   },
   "outputs": [],
   "source": [
    "from tensorflow.keras.callbacks import EarlyStopping,ReduceLROnPlateau,ModelCheckpoint\n",
    "early_stopping = EarlyStopping(monitor='val_loss',  \n",
    "                               patience=10,          \n",
    "                               restore_best_weights=True)  # Restore model weights to the best seen during training\n",
    "\n",
    "lr_schedule = ReduceLROnPlateau(\n",
    "    monitor='val_loss',\n",
    "    factor=0.2,\n",
    "    patience=3,\n",
    "    min_lr=1e-6\n",
    ")# factor 0.2-0.5\n",
    "\n",
    "checkpoint_callback = tf.keras.callbacks.ModelCheckpoint(filepath='model_suicideDet_checkpoint.h5', save_best_only=True)"
   ]
  },
  {
   "cell_type": "code",
   "execution_count": 70,
   "id": "e0ddc07b-f1e3-4b68-be28-dd5355ff2d60",
   "metadata": {
    "tags": []
   },
   "outputs": [
    {
     "name": "stdout",
     "output_type": "stream",
     "text": [
      "Epoch 1/1000\n",
      "1125/1125 - 27s - loss: 0.5881 - accuracy: 0.7836 - val_loss: 0.3539 - val_accuracy: 0.8467 - lr: 0.0010 - 27s/epoch - 24ms/step\n",
      "Epoch 2/1000\n",
      "1125/1125 - 24s - loss: 0.3443 - accuracy: 0.8682 - val_loss: 0.5214 - val_accuracy: 0.7831 - lr: 0.0010 - 24s/epoch - 21ms/step\n",
      "Epoch 3/1000\n",
      "1125/1125 - 24s - loss: 0.3105 - accuracy: 0.8849 - val_loss: 0.2613 - val_accuracy: 0.8972 - lr: 0.0010 - 24s/epoch - 21ms/step\n",
      "Epoch 4/1000\n",
      "1125/1125 - 24s - loss: 0.2868 - accuracy: 0.8921 - val_loss: 0.3107 - val_accuracy: 0.8742 - lr: 0.0010 - 24s/epoch - 22ms/step\n",
      "Epoch 5/1000\n",
      "1125/1125 - 24s - loss: 0.2735 - accuracy: 0.8999 - val_loss: 0.6194 - val_accuracy: 0.7340 - lr: 0.0010 - 24s/epoch - 22ms/step\n",
      "Epoch 6/1000\n",
      "1125/1125 - 24s - loss: 0.2581 - accuracy: 0.9040 - val_loss: 0.2988 - val_accuracy: 0.8818 - lr: 0.0010 - 24s/epoch - 21ms/step\n",
      "Epoch 7/1000\n",
      "1125/1125 - 24s - loss: 0.2450 - accuracy: 0.9117 - val_loss: 0.2246 - val_accuracy: 0.9116 - lr: 2.0000e-04 - 24s/epoch - 22ms/step\n",
      "Epoch 8/1000\n",
      "1125/1125 - 24s - loss: 0.2344 - accuracy: 0.9156 - val_loss: 0.2212 - val_accuracy: 0.9130 - lr: 2.0000e-04 - 24s/epoch - 21ms/step\n",
      "Epoch 9/1000\n",
      "1125/1125 - 24s - loss: 0.2274 - accuracy: 0.9177 - val_loss: 0.2191 - val_accuracy: 0.9151 - lr: 2.0000e-04 - 24s/epoch - 21ms/step\n",
      "Epoch 10/1000\n",
      "1125/1125 - 24s - loss: 0.2294 - accuracy: 0.9165 - val_loss: 0.2227 - val_accuracy: 0.9129 - lr: 2.0000e-04 - 24s/epoch - 21ms/step\n",
      "Epoch 11/1000\n",
      "1125/1125 - 24s - loss: 0.2234 - accuracy: 0.9191 - val_loss: 0.2315 - val_accuracy: 0.9098 - lr: 2.0000e-04 - 24s/epoch - 21ms/step\n",
      "Epoch 12/1000\n",
      "1125/1125 - 24s - loss: 0.2197 - accuracy: 0.9198 - val_loss: 0.2201 - val_accuracy: 0.9151 - lr: 2.0000e-04 - 24s/epoch - 21ms/step\n",
      "Epoch 13/1000\n",
      "1125/1125 - 24s - loss: 0.2131 - accuracy: 0.9195 - val_loss: 0.2194 - val_accuracy: 0.9153 - lr: 4.0000e-05 - 24s/epoch - 21ms/step\n",
      "Epoch 14/1000\n",
      "1125/1125 - 24s - loss: 0.2146 - accuracy: 0.9225 - val_loss: 0.2203 - val_accuracy: 0.9154 - lr: 4.0000e-05 - 24s/epoch - 21ms/step\n",
      "Epoch 15/1000\n",
      "1125/1125 - 24s - loss: 0.2140 - accuracy: 0.9227 - val_loss: 0.2201 - val_accuracy: 0.9143 - lr: 4.0000e-05 - 24s/epoch - 21ms/step\n",
      "Epoch 16/1000\n",
      "1125/1125 - 24s - loss: 0.2126 - accuracy: 0.9228 - val_loss: 0.2196 - val_accuracy: 0.9157 - lr: 8.0000e-06 - 24s/epoch - 22ms/step\n",
      "Epoch 17/1000\n",
      "1125/1125 - 24s - loss: 0.2116 - accuracy: 0.9230 - val_loss: 0.2197 - val_accuracy: 0.9158 - lr: 8.0000e-06 - 24s/epoch - 22ms/step\n",
      "Epoch 18/1000\n",
      "1125/1125 - 24s - loss: 0.2163 - accuracy: 0.9229 - val_loss: 0.2195 - val_accuracy: 0.9160 - lr: 8.0000e-06 - 24s/epoch - 21ms/step\n",
      "Epoch 19/1000\n",
      "1125/1125 - 24s - loss: 0.2089 - accuracy: 0.9251 - val_loss: 0.2200 - val_accuracy: 0.9152 - lr: 1.6000e-06 - 24s/epoch - 21ms/step\n"
     ]
    }
   ],
   "source": [
    "hist = model.fit(X_train_padded, y_train, epochs=1000, validation_data=(X_val_padded,y_val),verbose=2,callbacks=[early_stopping, lr_schedule,checkpoint_callback])"
   ]
  },
  {
   "cell_type": "code",
   "execution_count": 73,
   "id": "0f5efb10-fab3-4c09-a374-21089b6eec7c",
   "metadata": {
    "tags": []
   },
   "outputs": [
    {
     "data": {
      "image/png": "[encoded data removed]",
      "text/plain": [
       "<Figure size 1000x300 with 2 Axes>"
      ]
     },
     "metadata": {},
     "output_type": "display_data"
    }
   ],
   "source": [
    "# Create a scatter plot for the Loss and Accuracy across the training process\n",
    "fig,ax = plt.subplots(1,2,figsize=(10,3))\n",
    "ax[0].plot(hist.history['loss'],color='teal',label='loss')\n",
    "ax[0].plot(hist.history['val_loss'],color='orange',label='val_loss')\n",
    "ax[0].set_title('Loss',fontsize=20)\n",
    "ax[0].legend(loc='lower left')\n",
    "\n",
    "ax[1].plot(hist.history['accuracy'],color='teal',label='accuracy')\n",
    "ax[1].plot(hist.history['val_accuracy'],color='orange',label='val_accuracy')\n",
    "ax[1].set_title('Accuracy',fontsize=20)\n",
    "ax[1].legend(loc='lower right')\n",
    "plt.show()"
   ]
  },
  {
   "cell_type": "code",
   "execution_count": 74,
   "id": "8875b0b7-4f78-4366-b54a-2f02b9d4282b",
   "metadata": {
    "tags": []
   },
   "outputs": [
    {
     "name": "stdout",
     "output_type": "stream",
     "text": [
      "1125/1125 [==============================] - 5s 4ms/step\n"
     ]
    }
   ],
   "source": [
    "# make prediction\n",
    "pred = model.predict(X_train_padded)\n",
    "pred = [1 if p>0.5 else 0 for p in pred]"
   ]
  },
  {
   "cell_type": "code",
   "execution_count": 77,
   "id": "171c1fb1-3436-41c8-82cd-faeaff484cad",
   "metadata": {
    "collapsed": true,
    "jupyter": {
     "outputs_hidden": true
    },
    "tags": []
   },
   "outputs": [
    {
     "name": "stdout",
     "output_type": "stream",
     "text": [
      "192098    Staying AliveI beautiful family Two kids loving wife know screwed leave dont want stay sick 8 treatments ECT nothing Meds helping Therapy helping could Id lobotomized Last night dream finding gun kill want write suicide note dont know start Im literally trapped years life wont allow hospitalized feeling even trapped kids wife better without deserve better Ive told wife want find someone better Someone doesnt ask constantly wrong\n",
      "1554                                                                                                                                                                                                                                                                                                                                                                                                              good night im terribly miserable bye bye\n",
      "172397                                                                                                                                                                                                                                                                                                                                                                            Lakers championship Filler filler Filler Filler filler basketball filler\n",
      "215898                                                                                                                        lives arent worth livinglooking logically peoples lives joyful happy reason wanting die wanna live forever people like dont lot happiness come way left devices even traumatic situations suicide logical solution end pain never ending depression anxiety ill probably soon doesnt matter way ill die statistic regardless\n",
      "274110                                                                                                                                                                                                                                                                                                                                                                                                            want horny stop Please wanna happy horny\n",
      "Name: text, dtype: object\n",
      "192098    0\n",
      "1554      1\n",
      "172397    1\n",
      "215898    0\n",
      "274110    1\n",
      "Name: class, dtype: int64\n",
      "[0, 0, 1, 0, 1]\n"
     ]
    }
   ],
   "source": [
    "print(X_train.iloc[0:5])\n",
    "print(y_train.iloc[0:5])\n",
    "print(pred[0:5])"
   ]
  },
  {
   "cell_type": "markdown",
   "id": "1d1d2475-e99e-4b61-a162-a92d4efd6841",
   "metadata": {},
   "source": [
    "# Evaluation"
   ]
  },
  {
   "cell_type": "code",
   "execution_count": 78,
   "id": "918ea839-0d84-4587-b4e5-5325e4fe91ca",
   "metadata": {
    "tags": []
   },
   "outputs": [],
   "source": [
    "from tensorflow.keras.metrics import Precision, Recall,Accuracy,AUC\n",
    "from sklearn.metrics import confusion_matrix"
   ]
  },
  {
   "cell_type": "code",
   "execution_count": 79,
   "id": "b5ca9feb-5399-4b22-93dd-6f85c52b774f",
   "metadata": {
    "tags": []
   },
   "outputs": [
    {
     "name": "stdout",
     "output_type": "stream",
     "text": [
      "157/157 [==============================] - 1s 4ms/step\n"
     ]
    }
   ],
   "source": [
    "y_pred = model.predict(X_test_padded)\n",
    "y_pred = [1 if p>0.5 else 0 for p in y_pred]"
   ]
  },
  {
   "cell_type": "code",
   "execution_count": 80,
   "id": "489565a6-197a-4a68-ace1-65b64fa07481",
   "metadata": {
    "tags": []
   },
   "outputs": [],
   "source": [
    "pre = Precision()\n",
    "re = Recall()\n",
    "acc = Accuracy()\n",
    "auc = AUC()"
   ]
  },
  {
   "cell_type": "code",
   "execution_count": 81,
   "id": "992b5d91-e93b-47a7-866f-8bdf01702a09",
   "metadata": {
    "tags": []
   },
   "outputs": [],
   "source": [
    "pre.update_state(y_test, y_pred)\n",
    "re.update_state(y_test, y_pred)\n",
    "acc.update_state(y_test, y_pred)\n",
    "auc.update_state(y_test,y_pred)"
   ]
  },
  {
   "cell_type": "code",
   "execution_count": 82,
   "id": "e448747d-f374-4049-a163-e6404401d5a0",
   "metadata": {
    "tags": []
   },
   "outputs": [
    {
     "name": "stdout",
     "output_type": "stream",
     "text": [
      "Precision: 0.9155206084251404, Recall: 0.9220419526100159, Accuracy: 1.0, AUC: 0.9175515174865723\n"
     ]
    }
   ],
   "source": [
    "print(f'Precision: {pre.result().numpy()}, Recall: {re.result().numpy()}, Accuracy: {acc.result().numpy()}, AUC: {auc.result().numpy()}')"
   ]
  },
  {
   "cell_type": "code",
   "execution_count": null,
   "id": "6d43bb54-c291-4dec-a9cc-6e5f8d7919a7",
   "metadata": {},
   "outputs": [],
   "source": []
  }
 ],
 "metadata": {
  "kernelspec": {
   "display_name": "Python 3 (ipykernel)",
   "language": "python",
   "name": "python3"
  },
  "language_info": {
   "codemirror_mode": {
    "name": "ipython",
    "version": 3
   },
   "file_extension": ".py",
   "mimetype": "text/x-python",
   "name": "python",
   "nbconvert_exporter": "python",
   "pygments_lexer": "ipython3",
   "version": "3.10.11"
  }
 },
 "nbformat": 4,
 "nbformat_minor": 5
}
